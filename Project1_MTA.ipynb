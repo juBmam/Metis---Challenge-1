{
  "nbformat": 4,
  "nbformat_minor": 0,
  "metadata": {
    "colab": {
      "name": "Project1_MTA.ipynb",
      "provenance": [],
      "collapsed_sections": [],
      "toc_visible": true
    },
    "kernelspec": {
      "name": "python3",
      "display_name": "Python 3"
    }
  },
  "cells": [
    {
      "cell_type": "code",
      "metadata": {
        "id": "3XjEdDk-zDsQ"
      },
      "source": [
        "import pandas as pd\n",
        "import numpy as np\n",
        "import matplotlib.pyplot as plt\n",
        "import datetime\n",
        "# gdoc notes link: https://docs.google.com/document/d/1cjXIWAZjWP8KMultOzcyQ4vc6-9tzu3A9N6552qh1cU/edit"
      ],
      "execution_count": null,
      "outputs": []
    },
    {
      "cell_type": "markdown",
      "metadata": {
        "id": "Gc7IWeeV2oAy"
      },
      "source": [
        "#Challenge 1"
      ]
    },
    {
      "cell_type": "code",
      "metadata": {
        "id": "iroqz9nt0gQk"
      },
      "source": [
        "# pull last month of august through ~sept 22nd each year\n",
        "# exclude 2020 due to COVID\n",
        "\n",
        "weeks_for_2019 = [\"http://web.mta.info/developers/data/nyct/turnstile/turnstile_190921.txt\", \n",
        "                 \"http://web.mta.info/developers/data/nyct/turnstile/turnstile_190914.txt\", \n",
        "                 \"http://web.mta.info/developers/data/nyct/turnstile/turnstile_190907.txt\", \n",
        "                 \"http://web.mta.info/developers/data/nyct/turnstile/turnstile_190831.txt\",\n",
        "                 \"http://web.mta.info/developers/data/nyct/turnstile/turnstile_190824.txt\"]\n",
        "\n",
        "weeks_for_2018 = [\"http://web.mta.info/developers/data/nyct/turnstile/turnstile_180922.txt\",\n",
        "                 \"http://web.mta.info/developers/data/nyct/turnstile/turnstile_180915.txt\",\n",
        "                 \"http://web.mta.info/developers/data/nyct/turnstile/turnstile_180908.txt\",\n",
        "                 \"http://web.mta.info/developers/data/nyct/turnstile/turnstile_180901.txt\",\n",
        "                 \"http://web.mta.info/developers/data/nyct/turnstile/turnstile_180825.txt\"]\n",
        "\n",
        "data_2019 = [pd.read_csv(s) for s in weeks_for_2019]\n",
        "data_2018 = [pd.read_csv(s) for s in weeks_for_2018]\n",
        "all_data = data_2018+data_2019\n",
        "\n",
        "#Initially, we looked at combining data from several years; this caused problems with sorting later, and we pulled back to a single year.\n",
        "\n",
        "#df = pd.concat(all_data, ignore_index=True)\n",
        "#df = pd.concat(data_2018, ignore_index=True)\n",
        "df = pd.concat(data_2019, ignore_index=True)"
      ],
      "execution_count": null,
      "outputs": []
    },
    {
      "cell_type": "markdown",
      "metadata": {
        "id": "zgfbC4xN4B19"
      },
      "source": [
        "#Challenge 2"
      ]
    },
    {
      "cell_type": "code",
      "metadata": {
        "id": "4GpZ1SDX00Av"
      },
      "source": [
        "# Preparing the data for further processing.\n",
        "\n",
        "# create a datetime field from date and time fields. \n",
        "df['date_time'] = pd.to_datetime(df['DATE'] + ' ' + df['TIME'])\n",
        "\n",
        "# Create a single turnstile ID field to filter with.\n",
        "df['TURNSTILE_ID'] = df['C/A']+'_'+ df['UNIT']+'_' + df['SCP']+'_' + df['STATION']\n",
        "\n",
        "# Fix the wonky exits column title.\n",
        "df.rename(columns={'EXITS                                                               ': 'EXITS'}, inplace=True)\n",
        "\n",
        "#Sort by the new fields.\n",
        "df = df.sort_values(['TURNSTILE_ID', 'date_time'])\n"
      ],
      "execution_count": null,
      "outputs": []
    },
    {
      "cell_type": "code",
      "metadata": {
        "id": "5QIlGxkW-p7D",
        "outputId": "5a588ffd-9a31-4ee3-fd9d-2dea84dddeb8",
        "colab": {
          "base_uri": "https://localhost:8080/",
          "height": 359
        }
      },
      "source": [
        "#Identify: What are the duplicated turnstiles/dates in the data?\n",
        "df.groupby([\"TURNSTILE_ID\",\"DATE\",\"TIME\"])[\"ENTRIES\"].count().reset_index().sort_values(by=\"ENTRIES\",ascending=False).head(10)"
      ],
      "execution_count": null,
      "outputs": [
        {
          "output_type": "execute_result",
          "data": {
            "text/html": [
              "<div>\n",
              "<style scoped>\n",
              "    .dataframe tbody tr th:only-of-type {\n",
              "        vertical-align: middle;\n",
              "    }\n",
              "\n",
              "    .dataframe tbody tr th {\n",
              "        vertical-align: top;\n",
              "    }\n",
              "\n",
              "    .dataframe thead th {\n",
              "        text-align: right;\n",
              "    }\n",
              "</style>\n",
              "<table border=\"1\" class=\"dataframe\">\n",
              "  <thead>\n",
              "    <tr style=\"text-align: right;\">\n",
              "      <th></th>\n",
              "      <th>TURNSTILE_ID</th>\n",
              "      <th>DATE</th>\n",
              "      <th>TIME</th>\n",
              "      <th>ENTRIES</th>\n",
              "    </tr>\n",
              "  </thead>\n",
              "  <tbody>\n",
              "    <tr>\n",
              "      <th>638579</th>\n",
              "      <td>R101_R001_02-00-00_SOUTH FERRY</td>\n",
              "      <td>08/22/2019</td>\n",
              "      <td>05:00:00</td>\n",
              "      <td>2</td>\n",
              "    </tr>\n",
              "    <tr>\n",
              "      <th>989874</th>\n",
              "      <td>R622_R123_00-00-06_FRANKLIN AV</td>\n",
              "      <td>08/22/2019</td>\n",
              "      <td>04:59:02</td>\n",
              "      <td>2</td>\n",
              "    </tr>\n",
              "    <tr>\n",
              "      <th>990087</th>\n",
              "      <td>R622_R123_00-00-07_FRANKLIN AV</td>\n",
              "      <td>08/22/2019</td>\n",
              "      <td>04:59:02</td>\n",
              "      <td>2</td>\n",
              "    </tr>\n",
              "    <tr>\n",
              "      <th>639574</th>\n",
              "      <td>R101_R001_02-00-04_SOUTH FERRY</td>\n",
              "      <td>09/17/2019</td>\n",
              "      <td>05:00:00</td>\n",
              "      <td>2</td>\n",
              "    </tr>\n",
              "    <tr>\n",
              "      <th>180059</th>\n",
              "      <td>H039_R375_00-00-01_NEW LOTS</td>\n",
              "      <td>09/13/2019</td>\n",
              "      <td>05:00:00</td>\n",
              "      <td>2</td>\n",
              "    </tr>\n",
              "    <tr>\n",
              "      <th>709838</th>\n",
              "      <td>R161A_R452_01-00-02_72 ST</td>\n",
              "      <td>08/26/2019</td>\n",
              "      <td>21:00:00</td>\n",
              "      <td>2</td>\n",
              "    </tr>\n",
              "    <tr>\n",
              "      <th>179849</th>\n",
              "      <td>H039_R375_00-00-00_NEW LOTS</td>\n",
              "      <td>09/13/2019</td>\n",
              "      <td>05:00:00</td>\n",
              "      <td>2</td>\n",
              "    </tr>\n",
              "    <tr>\n",
              "      <th>640204</th>\n",
              "      <td>R101_R001_02-00-07_SOUTH FERRY</td>\n",
              "      <td>09/17/2019</td>\n",
              "      <td>05:00:00</td>\n",
              "      <td>2</td>\n",
              "    </tr>\n",
              "    <tr>\n",
              "      <th>684126</th>\n",
              "      <td>R138_R293_00-03-01_34 ST-PENN STA</td>\n",
              "      <td>08/24/2019</td>\n",
              "      <td>06:00:00</td>\n",
              "      <td>1</td>\n",
              "    </tr>\n",
              "    <tr>\n",
              "      <th>684165</th>\n",
              "      <td>R138_R293_00-03-01_34 ST-PENN STA</td>\n",
              "      <td>08/30/2019</td>\n",
              "      <td>22:00:00</td>\n",
              "      <td>1</td>\n",
              "    </tr>\n",
              "  </tbody>\n",
              "</table>\n",
              "</div>"
            ],
            "text/plain": [
              "                             TURNSTILE_ID        DATE      TIME  ENTRIES\n",
              "638579     R101_R001_02-00-00_SOUTH FERRY  08/22/2019  05:00:00        2\n",
              "989874     R622_R123_00-00-06_FRANKLIN AV  08/22/2019  04:59:02        2\n",
              "990087     R622_R123_00-00-07_FRANKLIN AV  08/22/2019  04:59:02        2\n",
              "639574     R101_R001_02-00-04_SOUTH FERRY  09/17/2019  05:00:00        2\n",
              "180059        H039_R375_00-00-01_NEW LOTS  09/13/2019  05:00:00        2\n",
              "709838          R161A_R452_01-00-02_72 ST  08/26/2019  21:00:00        2\n",
              "179849        H039_R375_00-00-00_NEW LOTS  09/13/2019  05:00:00        2\n",
              "640204     R101_R001_02-00-07_SOUTH FERRY  09/17/2019  05:00:00        2\n",
              "684126  R138_R293_00-03-01_34 ST-PENN STA  08/24/2019  06:00:00        1\n",
              "684165  R138_R293_00-03-01_34 ST-PENN STA  08/30/2019  22:00:00        1"
            ]
          },
          "metadata": {
            "tags": []
          },
          "execution_count": 68
        }
      ]
    },
    {
      "cell_type": "code",
      "metadata": {
        "id": "sPoTjnN6DybD",
        "outputId": "b63f6c35-24ff-4756-c67f-ed79057f5d02",
        "colab": {
          "base_uri": "https://localhost:8080/",
          "height": 34
        }
      },
      "source": [
        "df.shape"
      ],
      "execution_count": null,
      "outputs": [
        {
          "output_type": "execute_result",
          "data": {
            "text/plain": [
              "(1026240, 13)"
            ]
          },
          "metadata": {
            "tags": []
          },
          "execution_count": 69
        }
      ]
    },
    {
      "cell_type": "code",
      "metadata": {
        "id": "fs5tvFzF_4Uv",
        "outputId": "1a10aa64-f424-40a0-defa-f9550b5b2b6a",
        "colab": {
          "base_uri": "https://localhost:8080/",
          "height": 359
        }
      },
      "source": [
        "#df_2[df_2[\"TURNSTILE_ID\"] == \"R101_R001_02-00-00_SOUTH FERRY\" , df_2[\"DATE\"] ==\"09/14/2018\" , df_2[\"TIME\"] == \"05:00:00\"]\n",
        "#(turnstiles_df[\"DATE_TIME\"].dt.date == datetime.datetime(2016, 9, 16).date())\n",
        "\n",
        "themask = ((df[\"TURNSTILE_ID\"] == \"R622_R123_00-00-06_FRANKLIN AV\" ) & (df[\"date_time\"].dt.date == datetime.datetime(2019,8,22).date()))\n",
        "\n",
        "df[themask].head(10)"
      ],
      "execution_count": null,
      "outputs": [
        {
          "output_type": "execute_result",
          "data": {
            "text/html": [
              "<div>\n",
              "<style scoped>\n",
              "    .dataframe tbody tr th:only-of-type {\n",
              "        vertical-align: middle;\n",
              "    }\n",
              "\n",
              "    .dataframe tbody tr th {\n",
              "        vertical-align: top;\n",
              "    }\n",
              "\n",
              "    .dataframe thead th {\n",
              "        text-align: right;\n",
              "    }\n",
              "</style>\n",
              "<table border=\"1\" class=\"dataframe\">\n",
              "  <thead>\n",
              "    <tr style=\"text-align: right;\">\n",
              "      <th></th>\n",
              "      <th>C/A</th>\n",
              "      <th>UNIT</th>\n",
              "      <th>SCP</th>\n",
              "      <th>STATION</th>\n",
              "      <th>LINENAME</th>\n",
              "      <th>DIVISION</th>\n",
              "      <th>DATE</th>\n",
              "      <th>TIME</th>\n",
              "      <th>DESC</th>\n",
              "      <th>ENTRIES</th>\n",
              "      <th>EXITS</th>\n",
              "      <th>date_time</th>\n",
              "      <th>TURNSTILE_ID</th>\n",
              "    </tr>\n",
              "  </thead>\n",
              "  <tbody>\n",
              "    <tr>\n",
              "      <th>1018982</th>\n",
              "      <td>R622</td>\n",
              "      <td>R123</td>\n",
              "      <td>00-00-06</td>\n",
              "      <td>FRANKLIN AV</td>\n",
              "      <td>2345S</td>\n",
              "      <td>IRT</td>\n",
              "      <td>08/22/2019</td>\n",
              "      <td>00:00:00</td>\n",
              "      <td>REGULAR</td>\n",
              "      <td>10088508</td>\n",
              "      <td>12195136</td>\n",
              "      <td>2019-08-22 00:00:00</td>\n",
              "      <td>R622_R123_00-00-06_FRANKLIN AV</td>\n",
              "    </tr>\n",
              "    <tr>\n",
              "      <th>1018983</th>\n",
              "      <td>R622</td>\n",
              "      <td>R123</td>\n",
              "      <td>00-00-06</td>\n",
              "      <td>FRANKLIN AV</td>\n",
              "      <td>2345S</td>\n",
              "      <td>IRT</td>\n",
              "      <td>08/22/2019</td>\n",
              "      <td>04:00:00</td>\n",
              "      <td>REGULAR</td>\n",
              "      <td>10088520</td>\n",
              "      <td>12195190</td>\n",
              "      <td>2019-08-22 04:00:00</td>\n",
              "      <td>R622_R123_00-00-06_FRANKLIN AV</td>\n",
              "    </tr>\n",
              "    <tr>\n",
              "      <th>1018984</th>\n",
              "      <td>R622</td>\n",
              "      <td>R123</td>\n",
              "      <td>00-00-06</td>\n",
              "      <td>FRANKLIN AV</td>\n",
              "      <td>2345S</td>\n",
              "      <td>IRT</td>\n",
              "      <td>08/22/2019</td>\n",
              "      <td>04:59:02</td>\n",
              "      <td>REGULAR</td>\n",
              "      <td>10088529</td>\n",
              "      <td>12195193</td>\n",
              "      <td>2019-08-22 04:59:02</td>\n",
              "      <td>R622_R123_00-00-06_FRANKLIN AV</td>\n",
              "    </tr>\n",
              "    <tr>\n",
              "      <th>1018985</th>\n",
              "      <td>R622</td>\n",
              "      <td>R123</td>\n",
              "      <td>00-00-06</td>\n",
              "      <td>FRANKLIN AV</td>\n",
              "      <td>2345S</td>\n",
              "      <td>IRT</td>\n",
              "      <td>08/22/2019</td>\n",
              "      <td>04:59:02</td>\n",
              "      <td>RECOVR AUD</td>\n",
              "      <td>10088530</td>\n",
              "      <td>12195193</td>\n",
              "      <td>2019-08-22 04:59:02</td>\n",
              "      <td>R622_R123_00-00-06_FRANKLIN AV</td>\n",
              "    </tr>\n",
              "    <tr>\n",
              "      <th>1018986</th>\n",
              "      <td>R622</td>\n",
              "      <td>R123</td>\n",
              "      <td>00-00-06</td>\n",
              "      <td>FRANKLIN AV</td>\n",
              "      <td>2345S</td>\n",
              "      <td>IRT</td>\n",
              "      <td>08/22/2019</td>\n",
              "      <td>05:01:42</td>\n",
              "      <td>REGULAR</td>\n",
              "      <td>10088530</td>\n",
              "      <td>12195193</td>\n",
              "      <td>2019-08-22 05:01:42</td>\n",
              "      <td>R622_R123_00-00-06_FRANKLIN AV</td>\n",
              "    </tr>\n",
              "    <tr>\n",
              "      <th>1018987</th>\n",
              "      <td>R622</td>\n",
              "      <td>R123</td>\n",
              "      <td>00-00-06</td>\n",
              "      <td>FRANKLIN AV</td>\n",
              "      <td>2345S</td>\n",
              "      <td>IRT</td>\n",
              "      <td>08/22/2019</td>\n",
              "      <td>05:01:54</td>\n",
              "      <td>RECOVR AUD</td>\n",
              "      <td>10088530</td>\n",
              "      <td>12195193</td>\n",
              "      <td>2019-08-22 05:01:54</td>\n",
              "      <td>R622_R123_00-00-06_FRANKLIN AV</td>\n",
              "    </tr>\n",
              "    <tr>\n",
              "      <th>1018988</th>\n",
              "      <td>R622</td>\n",
              "      <td>R123</td>\n",
              "      <td>00-00-06</td>\n",
              "      <td>FRANKLIN AV</td>\n",
              "      <td>2345S</td>\n",
              "      <td>IRT</td>\n",
              "      <td>08/22/2019</td>\n",
              "      <td>08:00:00</td>\n",
              "      <td>REGULAR</td>\n",
              "      <td>10088756</td>\n",
              "      <td>12195232</td>\n",
              "      <td>2019-08-22 08:00:00</td>\n",
              "      <td>R622_R123_00-00-06_FRANKLIN AV</td>\n",
              "    </tr>\n",
              "    <tr>\n",
              "      <th>1018989</th>\n",
              "      <td>R622</td>\n",
              "      <td>R123</td>\n",
              "      <td>00-00-06</td>\n",
              "      <td>FRANKLIN AV</td>\n",
              "      <td>2345S</td>\n",
              "      <td>IRT</td>\n",
              "      <td>08/22/2019</td>\n",
              "      <td>12:00:00</td>\n",
              "      <td>REGULAR</td>\n",
              "      <td>10089292</td>\n",
              "      <td>12195348</td>\n",
              "      <td>2019-08-22 12:00:00</td>\n",
              "      <td>R622_R123_00-00-06_FRANKLIN AV</td>\n",
              "    </tr>\n",
              "    <tr>\n",
              "      <th>1018990</th>\n",
              "      <td>R622</td>\n",
              "      <td>R123</td>\n",
              "      <td>00-00-06</td>\n",
              "      <td>FRANKLIN AV</td>\n",
              "      <td>2345S</td>\n",
              "      <td>IRT</td>\n",
              "      <td>08/22/2019</td>\n",
              "      <td>16:00:00</td>\n",
              "      <td>REGULAR</td>\n",
              "      <td>10089523</td>\n",
              "      <td>12195550</td>\n",
              "      <td>2019-08-22 16:00:00</td>\n",
              "      <td>R622_R123_00-00-06_FRANKLIN AV</td>\n",
              "    </tr>\n",
              "    <tr>\n",
              "      <th>1018991</th>\n",
              "      <td>R622</td>\n",
              "      <td>R123</td>\n",
              "      <td>00-00-06</td>\n",
              "      <td>FRANKLIN AV</td>\n",
              "      <td>2345S</td>\n",
              "      <td>IRT</td>\n",
              "      <td>08/22/2019</td>\n",
              "      <td>20:00:00</td>\n",
              "      <td>REGULAR</td>\n",
              "      <td>10089733</td>\n",
              "      <td>12196316</td>\n",
              "      <td>2019-08-22 20:00:00</td>\n",
              "      <td>R622_R123_00-00-06_FRANKLIN AV</td>\n",
              "    </tr>\n",
              "  </tbody>\n",
              "</table>\n",
              "</div>"
            ],
            "text/plain": [
              "          C/A  UNIT  ...           date_time                    TURNSTILE_ID\n",
              "1018982  R622  R123  ... 2019-08-22 00:00:00  R622_R123_00-00-06_FRANKLIN AV\n",
              "1018983  R622  R123  ... 2019-08-22 04:00:00  R622_R123_00-00-06_FRANKLIN AV\n",
              "1018984  R622  R123  ... 2019-08-22 04:59:02  R622_R123_00-00-06_FRANKLIN AV\n",
              "1018985  R622  R123  ... 2019-08-22 04:59:02  R622_R123_00-00-06_FRANKLIN AV\n",
              "1018986  R622  R123  ... 2019-08-22 05:01:42  R622_R123_00-00-06_FRANKLIN AV\n",
              "1018987  R622  R123  ... 2019-08-22 05:01:54  R622_R123_00-00-06_FRANKLIN AV\n",
              "1018988  R622  R123  ... 2019-08-22 08:00:00  R622_R123_00-00-06_FRANKLIN AV\n",
              "1018989  R622  R123  ... 2019-08-22 12:00:00  R622_R123_00-00-06_FRANKLIN AV\n",
              "1018990  R622  R123  ... 2019-08-22 16:00:00  R622_R123_00-00-06_FRANKLIN AV\n",
              "1018991  R622  R123  ... 2019-08-22 20:00:00  R622_R123_00-00-06_FRANKLIN AV\n",
              "\n",
              "[10 rows x 13 columns]"
            ]
          },
          "metadata": {
            "tags": []
          },
          "execution_count": 70
        }
      ]
    },
    {
      "cell_type": "code",
      "metadata": {
        "id": "1Puxpm1kC0Pm"
      },
      "source": [
        "# We scanned a few duplicates (see cell above), and chose to drop the second of the two duplicate rows (by turnstile_id and date_time)\n",
        "df = df.drop_duplicates(subset=[\"TURNSTILE_ID\",\"date_time\"],keep=\"first\")"
      ],
      "execution_count": null,
      "outputs": []
    },
    {
      "cell_type": "code",
      "metadata": {
        "id": "sDzEpxMNDtbK",
        "outputId": "e252b8fd-b9cc-4361-d722-a79bc0a00a14",
        "colab": {
          "base_uri": "https://localhost:8080/",
          "height": 34
        }
      },
      "source": [
        "df.shape"
      ],
      "execution_count": null,
      "outputs": [
        {
          "output_type": "execute_result",
          "data": {
            "text/plain": [
              "(1026232, 13)"
            ]
          },
          "metadata": {
            "tags": []
          },
          "execution_count": 72
        }
      ]
    },
    {
      "cell_type": "markdown",
      "metadata": {
        "id": "UArM84Tn8iGg"
      },
      "source": [
        "#Challenge 3"
      ]
    },
    {
      "cell_type": "code",
      "metadata": {
        "id": "7qxx9d1H8lBy",
        "outputId": "1b8e7662-cad0-4cbb-f0f9-c30022bb185e",
        "colab": {
          "base_uri": "https://localhost:8080/",
          "height": 292
        }
      },
      "source": [
        "#First, note that we are using .first for entries, after grouping by date. Because the entries are sorted ascending by date/time, this means that the value assigned to a day\n",
        "#will be just after midnight, and heavily influenced by the previous day.\n",
        "df_events_per_day = df.groupby([\"TURNSTILE_ID\",\"DATE\"],as_index=False)[\"ENTRIES\", \"C/A\", \"UNIT\", \"SCP\", \"STATION\",\"TIME\", \"date_time\"].first()\n",
        "\n",
        "\n",
        "#In order to solve this off-by-one issue, we replace the date with the previous day's date. \n",
        "df_events_per_day[[\"previous_date\",\"previous_entries\"]] = df_events_per_day.groupby([\"TURNSTILE_ID\"])[\"DATE\",\"ENTRIES\"].apply(lambda grp: grp.shift(1))\n",
        "\n",
        "\n",
        "df_events_per_day.drop(columns=['DATE'], axis=1, inplace=True)\n",
        "df_events_per_day.rename({'previous_date' : 'DATE'}, axis=1, inplace=True)\n",
        "df['date_time'] = pd.to_datetime(df['DATE'] + ' ' + df['TIME'])\n",
        "\n",
        "df_events_per_day.head(5)"
      ],
      "execution_count": null,
      "outputs": [
        {
          "output_type": "stream",
          "text": [
            "/usr/local/lib/python3.6/dist-packages/ipykernel_launcher.py:3: FutureWarning: Indexing with multiple keys (implicitly converted to a tuple of keys) will be deprecated, use a list instead.\n",
            "  This is separate from the ipykernel package so we can avoid doing imports until\n",
            "/usr/local/lib/python3.6/dist-packages/ipykernel_launcher.py:7: FutureWarning: Indexing with multiple keys (implicitly converted to a tuple of keys) will be deprecated, use a list instead.\n",
            "  import sys\n"
          ],
          "name": "stderr"
        },
        {
          "output_type": "execute_result",
          "data": {
            "text/html": [
              "<div>\n",
              "<style scoped>\n",
              "    .dataframe tbody tr th:only-of-type {\n",
              "        vertical-align: middle;\n",
              "    }\n",
              "\n",
              "    .dataframe tbody tr th {\n",
              "        vertical-align: top;\n",
              "    }\n",
              "\n",
              "    .dataframe thead th {\n",
              "        text-align: right;\n",
              "    }\n",
              "</style>\n",
              "<table border=\"1\" class=\"dataframe\">\n",
              "  <thead>\n",
              "    <tr style=\"text-align: right;\">\n",
              "      <th></th>\n",
              "      <th>TURNSTILE_ID</th>\n",
              "      <th>ENTRIES</th>\n",
              "      <th>C/A</th>\n",
              "      <th>UNIT</th>\n",
              "      <th>SCP</th>\n",
              "      <th>STATION</th>\n",
              "      <th>TIME</th>\n",
              "      <th>date_time</th>\n",
              "      <th>DATE</th>\n",
              "      <th>previous_entries</th>\n",
              "    </tr>\n",
              "  </thead>\n",
              "  <tbody>\n",
              "    <tr>\n",
              "      <th>0</th>\n",
              "      <td>A002_R051_02-00-00_59 ST</td>\n",
              "      <td>7170294</td>\n",
              "      <td>A002</td>\n",
              "      <td>R051</td>\n",
              "      <td>02-00-00</td>\n",
              "      <td>59 ST</td>\n",
              "      <td>00:00:00</td>\n",
              "      <td>2019-08-17</td>\n",
              "      <td>NaN</td>\n",
              "      <td>NaN</td>\n",
              "    </tr>\n",
              "    <tr>\n",
              "      <th>1</th>\n",
              "      <td>A002_R051_02-00-00_59 ST</td>\n",
              "      <td>7170943</td>\n",
              "      <td>A002</td>\n",
              "      <td>R051</td>\n",
              "      <td>02-00-00</td>\n",
              "      <td>59 ST</td>\n",
              "      <td>00:00:00</td>\n",
              "      <td>2019-08-18</td>\n",
              "      <td>08/17/2019</td>\n",
              "      <td>7170294.0</td>\n",
              "    </tr>\n",
              "    <tr>\n",
              "      <th>2</th>\n",
              "      <td>A002_R051_02-00-00_59 ST</td>\n",
              "      <td>7171363</td>\n",
              "      <td>A002</td>\n",
              "      <td>R051</td>\n",
              "      <td>02-00-00</td>\n",
              "      <td>59 ST</td>\n",
              "      <td>00:00:00</td>\n",
              "      <td>2019-08-19</td>\n",
              "      <td>08/18/2019</td>\n",
              "      <td>7170943.0</td>\n",
              "    </tr>\n",
              "    <tr>\n",
              "      <th>3</th>\n",
              "      <td>A002_R051_02-00-00_59 ST</td>\n",
              "      <td>7172478</td>\n",
              "      <td>A002</td>\n",
              "      <td>R051</td>\n",
              "      <td>02-00-00</td>\n",
              "      <td>59 ST</td>\n",
              "      <td>00:00:00</td>\n",
              "      <td>2019-08-20</td>\n",
              "      <td>08/19/2019</td>\n",
              "      <td>7171363.0</td>\n",
              "    </tr>\n",
              "    <tr>\n",
              "      <th>4</th>\n",
              "      <td>A002_R051_02-00-00_59 ST</td>\n",
              "      <td>7173517</td>\n",
              "      <td>A002</td>\n",
              "      <td>R051</td>\n",
              "      <td>02-00-00</td>\n",
              "      <td>59 ST</td>\n",
              "      <td>00:00:00</td>\n",
              "      <td>2019-08-21</td>\n",
              "      <td>08/20/2019</td>\n",
              "      <td>7172478.0</td>\n",
              "    </tr>\n",
              "  </tbody>\n",
              "</table>\n",
              "</div>"
            ],
            "text/plain": [
              "               TURNSTILE_ID  ENTRIES  ...        DATE previous_entries\n",
              "0  A002_R051_02-00-00_59 ST  7170294  ...         NaN              NaN\n",
              "1  A002_R051_02-00-00_59 ST  7170943  ...  08/17/2019        7170294.0\n",
              "2  A002_R051_02-00-00_59 ST  7171363  ...  08/18/2019        7170943.0\n",
              "3  A002_R051_02-00-00_59 ST  7172478  ...  08/19/2019        7171363.0\n",
              "4  A002_R051_02-00-00_59 ST  7173517  ...  08/20/2019        7172478.0\n",
              "\n",
              "[5 rows x 10 columns]"
            ]
          },
          "metadata": {
            "tags": []
          },
          "execution_count": 73
        }
      ]
    },
    {
      "cell_type": "code",
      "metadata": {
        "id": "7G7k5Jfa1SkR",
        "outputId": "c108cbaf-0df9-4115-8001-da009c5f45b6",
        "colab": {
          "base_uri": "https://localhost:8080/",
          "height": 204
        }
      },
      "source": [
        "#Next, remove the first day's worth of data, since it will be associated with a nonexistent day.\n",
        "df_events_per_day.dropna(subset=[\"DATE\"],axis=0,inplace=True)\n",
        "df_events_per_day.head(5)"
      ],
      "execution_count": null,
      "outputs": [
        {
          "output_type": "execute_result",
          "data": {
            "text/html": [
              "<div>\n",
              "<style scoped>\n",
              "    .dataframe tbody tr th:only-of-type {\n",
              "        vertical-align: middle;\n",
              "    }\n",
              "\n",
              "    .dataframe tbody tr th {\n",
              "        vertical-align: top;\n",
              "    }\n",
              "\n",
              "    .dataframe thead th {\n",
              "        text-align: right;\n",
              "    }\n",
              "</style>\n",
              "<table border=\"1\" class=\"dataframe\">\n",
              "  <thead>\n",
              "    <tr style=\"text-align: right;\">\n",
              "      <th></th>\n",
              "      <th>TURNSTILE_ID</th>\n",
              "      <th>ENTRIES</th>\n",
              "      <th>C/A</th>\n",
              "      <th>UNIT</th>\n",
              "      <th>SCP</th>\n",
              "      <th>STATION</th>\n",
              "      <th>TIME</th>\n",
              "      <th>date_time</th>\n",
              "      <th>DATE</th>\n",
              "      <th>previous_entries</th>\n",
              "    </tr>\n",
              "  </thead>\n",
              "  <tbody>\n",
              "    <tr>\n",
              "      <th>1</th>\n",
              "      <td>A002_R051_02-00-00_59 ST</td>\n",
              "      <td>7170943</td>\n",
              "      <td>A002</td>\n",
              "      <td>R051</td>\n",
              "      <td>02-00-00</td>\n",
              "      <td>59 ST</td>\n",
              "      <td>00:00:00</td>\n",
              "      <td>2019-08-18</td>\n",
              "      <td>08/17/2019</td>\n",
              "      <td>7170294.0</td>\n",
              "    </tr>\n",
              "    <tr>\n",
              "      <th>2</th>\n",
              "      <td>A002_R051_02-00-00_59 ST</td>\n",
              "      <td>7171363</td>\n",
              "      <td>A002</td>\n",
              "      <td>R051</td>\n",
              "      <td>02-00-00</td>\n",
              "      <td>59 ST</td>\n",
              "      <td>00:00:00</td>\n",
              "      <td>2019-08-19</td>\n",
              "      <td>08/18/2019</td>\n",
              "      <td>7170943.0</td>\n",
              "    </tr>\n",
              "    <tr>\n",
              "      <th>3</th>\n",
              "      <td>A002_R051_02-00-00_59 ST</td>\n",
              "      <td>7172478</td>\n",
              "      <td>A002</td>\n",
              "      <td>R051</td>\n",
              "      <td>02-00-00</td>\n",
              "      <td>59 ST</td>\n",
              "      <td>00:00:00</td>\n",
              "      <td>2019-08-20</td>\n",
              "      <td>08/19/2019</td>\n",
              "      <td>7171363.0</td>\n",
              "    </tr>\n",
              "    <tr>\n",
              "      <th>4</th>\n",
              "      <td>A002_R051_02-00-00_59 ST</td>\n",
              "      <td>7173517</td>\n",
              "      <td>A002</td>\n",
              "      <td>R051</td>\n",
              "      <td>02-00-00</td>\n",
              "      <td>59 ST</td>\n",
              "      <td>00:00:00</td>\n",
              "      <td>2019-08-21</td>\n",
              "      <td>08/20/2019</td>\n",
              "      <td>7172478.0</td>\n",
              "    </tr>\n",
              "    <tr>\n",
              "      <th>5</th>\n",
              "      <td>A002_R051_02-00-00_59 ST</td>\n",
              "      <td>7174625</td>\n",
              "      <td>A002</td>\n",
              "      <td>R051</td>\n",
              "      <td>02-00-00</td>\n",
              "      <td>59 ST</td>\n",
              "      <td>00:00:00</td>\n",
              "      <td>2019-08-22</td>\n",
              "      <td>08/21/2019</td>\n",
              "      <td>7173517.0</td>\n",
              "    </tr>\n",
              "  </tbody>\n",
              "</table>\n",
              "</div>"
            ],
            "text/plain": [
              "               TURNSTILE_ID  ENTRIES  ...        DATE previous_entries\n",
              "1  A002_R051_02-00-00_59 ST  7170943  ...  08/17/2019        7170294.0\n",
              "2  A002_R051_02-00-00_59 ST  7171363  ...  08/18/2019        7170943.0\n",
              "3  A002_R051_02-00-00_59 ST  7172478  ...  08/19/2019        7171363.0\n",
              "4  A002_R051_02-00-00_59 ST  7173517  ...  08/20/2019        7172478.0\n",
              "5  A002_R051_02-00-00_59 ST  7174625  ...  08/21/2019        7173517.0\n",
              "\n",
              "[5 rows x 10 columns]"
            ]
          },
          "metadata": {
            "tags": []
          },
          "execution_count": 74
        }
      ]
    },
    {
      "cell_type": "code",
      "metadata": {
        "id": "w4jSTA_kI4FY",
        "outputId": "d5fb6c40-15c1-4521-a190-0b74b70f980c",
        "colab": {
          "base_uri": "https://localhost:8080/",
          "height": 204
        }
      },
      "source": [
        "#That's odd! Some of the turnstiles are counting backwards.\n",
        "df_events_per_day[ df_events_per_day[\"ENTRIES\"] < df_events_per_day[\"previous_entries\"] ].head(5)"
      ],
      "execution_count": null,
      "outputs": [
        {
          "output_type": "execute_result",
          "data": {
            "text/html": [
              "<div>\n",
              "<style scoped>\n",
              "    .dataframe tbody tr th:only-of-type {\n",
              "        vertical-align: middle;\n",
              "    }\n",
              "\n",
              "    .dataframe tbody tr th {\n",
              "        vertical-align: top;\n",
              "    }\n",
              "\n",
              "    .dataframe thead th {\n",
              "        text-align: right;\n",
              "    }\n",
              "</style>\n",
              "<table border=\"1\" class=\"dataframe\">\n",
              "  <thead>\n",
              "    <tr style=\"text-align: right;\">\n",
              "      <th></th>\n",
              "      <th>TURNSTILE_ID</th>\n",
              "      <th>ENTRIES</th>\n",
              "      <th>C/A</th>\n",
              "      <th>UNIT</th>\n",
              "      <th>SCP</th>\n",
              "      <th>STATION</th>\n",
              "      <th>TIME</th>\n",
              "      <th>date_time</th>\n",
              "      <th>DATE</th>\n",
              "      <th>previous_entries</th>\n",
              "    </tr>\n",
              "  </thead>\n",
              "  <tbody>\n",
              "    <tr>\n",
              "      <th>1339</th>\n",
              "      <td>A011_R080_01-03-00_57 ST-7 AV</td>\n",
              "      <td>885829355</td>\n",
              "      <td>A011</td>\n",
              "      <td>R080</td>\n",
              "      <td>01-03-00</td>\n",
              "      <td>57 ST-7 AV</td>\n",
              "      <td>00:00:00</td>\n",
              "      <td>2019-08-21</td>\n",
              "      <td>08/20/2019</td>\n",
              "      <td>885829659.0</td>\n",
              "    </tr>\n",
              "    <tr>\n",
              "      <th>1340</th>\n",
              "      <td>A011_R080_01-03-00_57 ST-7 AV</td>\n",
              "      <td>885828839</td>\n",
              "      <td>A011</td>\n",
              "      <td>R080</td>\n",
              "      <td>01-03-00</td>\n",
              "      <td>57 ST-7 AV</td>\n",
              "      <td>00:00:00</td>\n",
              "      <td>2019-08-22</td>\n",
              "      <td>08/21/2019</td>\n",
              "      <td>885829355.0</td>\n",
              "    </tr>\n",
              "    <tr>\n",
              "      <th>1341</th>\n",
              "      <td>A011_R080_01-03-00_57 ST-7 AV</td>\n",
              "      <td>885828245</td>\n",
              "      <td>A011</td>\n",
              "      <td>R080</td>\n",
              "      <td>01-03-00</td>\n",
              "      <td>57 ST-7 AV</td>\n",
              "      <td>00:00:00</td>\n",
              "      <td>2019-08-23</td>\n",
              "      <td>08/22/2019</td>\n",
              "      <td>885828839.0</td>\n",
              "    </tr>\n",
              "    <tr>\n",
              "      <th>1342</th>\n",
              "      <td>A011_R080_01-03-00_57 ST-7 AV</td>\n",
              "      <td>885827671</td>\n",
              "      <td>A011</td>\n",
              "      <td>R080</td>\n",
              "      <td>01-03-00</td>\n",
              "      <td>57 ST-7 AV</td>\n",
              "      <td>00:00:00</td>\n",
              "      <td>2019-08-24</td>\n",
              "      <td>08/23/2019</td>\n",
              "      <td>885828245.0</td>\n",
              "    </tr>\n",
              "    <tr>\n",
              "      <th>1343</th>\n",
              "      <td>A011_R080_01-03-00_57 ST-7 AV</td>\n",
              "      <td>885827233</td>\n",
              "      <td>A011</td>\n",
              "      <td>R080</td>\n",
              "      <td>01-03-00</td>\n",
              "      <td>57 ST-7 AV</td>\n",
              "      <td>00:00:00</td>\n",
              "      <td>2019-08-25</td>\n",
              "      <td>08/24/2019</td>\n",
              "      <td>885827671.0</td>\n",
              "    </tr>\n",
              "  </tbody>\n",
              "</table>\n",
              "</div>"
            ],
            "text/plain": [
              "                       TURNSTILE_ID    ENTRIES  ...        DATE previous_entries\n",
              "1339  A011_R080_01-03-00_57 ST-7 AV  885829355  ...  08/20/2019      885829659.0\n",
              "1340  A011_R080_01-03-00_57 ST-7 AV  885828839  ...  08/21/2019      885829355.0\n",
              "1341  A011_R080_01-03-00_57 ST-7 AV  885828245  ...  08/22/2019      885828839.0\n",
              "1342  A011_R080_01-03-00_57 ST-7 AV  885827671  ...  08/23/2019      885828245.0\n",
              "1343  A011_R080_01-03-00_57 ST-7 AV  885827233  ...  08/24/2019      885827671.0\n",
              "\n",
              "[5 rows x 10 columns]"
            ]
          },
          "metadata": {
            "tags": []
          },
          "execution_count": 75
        }
      ]
    },
    {
      "cell_type": "code",
      "metadata": {
        "id": "-evo__dMLEC9"
      },
      "source": [
        "#Here's where we identified cases where \n",
        "def get_daily_counts(row, max_counter):\n",
        "    counter = row[\"ENTRIES\"] - row[\"previous_entries\"]\n",
        "    if counter < 0:\n",
        "        # Maybe counter is reversed?\n",
        "        counter = -counter\n",
        "    if counter > max_counter:\n",
        "        # Maybe counter was reset to 0 due to turnstile behavior, or maintenance?\n",
        "        print(row[\"STATION\"], row[\"DATE\"], row[\"ENTRIES\"], row[\"previous_entries\"])\n",
        "        counter = min(row[\"ENTRIES\"], row[\"previous_entries\"])\n",
        "    if min(row[\"ENTRIES\"], row[\"previous_entries\"]) < 10000 and max(row[\"ENTRIES\"], row[\"previous_entries\"]) > 20000:\n",
        "      #This is another, similar check. \n",
        "        return min(row[\"ENTRIES\"], row[\"previous_entries\"])\n",
        "    if counter > max_counter:\n",
        "        # Check it again to make sure we're not still giving a counter that's too big\n",
        "        return 0\n",
        "    return counter"
      ],
      "execution_count": null,
      "outputs": []
    },
    {
      "cell_type": "code",
      "metadata": {
        "id": "fZOQSvStLa_7",
        "outputId": "a1d49981-cc2b-4f1b-d67d-bd04949700ad",
        "colab": {
          "base_uri": "https://localhost:8080/",
          "height": 1000
        }
      },
      "source": [
        "df_events_per_day[\"DAILY_ENTRIES\"] = df_events_per_day.apply(get_daily_counts, axis=1, max_counter=86400)"
      ],
      "execution_count": null,
      "outputs": [
        {
          "output_type": "stream",
          "text": [
            "57 ST-7 AV 08/24/2019 458755 7.0\n",
            "49 ST 09/07/2019 12 6170094.0\n",
            "14 ST-UNION SQ 08/20/2019 451 303204.0\n",
            "BOTANIC GARDEN 09/11/2019 716 171608.0\n",
            "NECK RD 08/19/2019 459073 68448066.0\n",
            "SHEEPSHEAD BAY 09/15/2019 275 112691.0\n",
            "BOROUGH HALL 09/02/2019 143 1599329.0\n",
            "DEKALB AV 08/21/2019 1638739 805417.0\n",
            "DEKALB AV 09/06/2019 460787 6805255.0\n",
            "4AV-9 ST 08/21/2019 138 290539.0\n",
            "BAY RIDGE AV 09/09/2019 73 6697765.0\n",
            "BAY PKWY 09/19/2019 875479593 775219651.0\n",
            "CONEY IS-STILLW 08/20/2019 458754 3774.0\n",
            "BEDFORD AV 08/22/2019 721 915984.0\n",
            "JEFFERSON ST 09/18/2019 590840 9156730.0\n",
            "CHAUNCEY ST 09/17/2019 134 1478959.0\n",
            "JFK JAMAICA CT1 09/06/2019 597 479848.0\n",
            "METROPOLITAN AV 09/18/2019 85 771630.0\n",
            "135 ST 09/03/2019 67 202729.0\n",
            "125 ST 09/18/2019 222 6053291.0\n",
            "96 ST 08/27/2019 26 1652502.0\n",
            "14 ST 08/21/2019 22 2129136933.0\n",
            "14 ST 08/21/2019 21 13593836.0\n",
            "14 ST 08/21/2019 27 7808518.0\n",
            "14 ST 08/21/2019 21 2129136817.0\n",
            "14 ST 08/21/2019 28 13594033.0\n",
            "14 ST 08/21/2019 21 7809012.0\n",
            "CHAMBERS ST 09/15/2019 80 2781090.0\n",
            "WORLD TRADE CTR 08/22/2019 1462 989392.0\n",
            "FULTON ST 09/08/2019 458753 3979.0\n",
            "KINGSTON-THROOP 09/05/2019 342 100079.0\n",
            "FAR ROCKAWAY 08/29/2019 23 2130567.0\n",
            "161/YANKEE STAD 09/06/2019 721441481 2880437.0\n",
            "BEDFORD PK BLVD 09/10/2019 373 550304.0\n",
            "46 ST 09/01/2019 14 4584481.0\n",
            "JKSN HT-ROOSVLT 08/17/2019 524292 3878.0\n",
            "PARSONS BLVD 08/29/2019 134 3376441.0\n",
            "PARSONS BLVD 08/29/2019 351 3839369.0\n",
            "B'WAY-LAFAYETTE 09/09/2019 8 175496.0\n",
            "GRAND ST 09/05/2019 1565 349750.0\n",
            "14TH STREET 08/30/2019 2285 206623.0\n",
            "TWENTY THIRD ST 09/18/2019 1408 125316.0\n",
            "THIRTY ST 09/09/2019 10 155439.0\n",
            "THIRTY THIRD ST 09/07/2019 84 154658.0\n",
            "PATH NEW WTC 08/27/2019 2054 159430.0\n",
            "FULTON ST 09/16/2019 1507350 3900.0\n",
            "HOUSTON ST 09/09/2019 535 4777158.0\n",
            "18 ST 09/03/2019 102459236 210849.0\n",
            "72 ST 08/26/2019 292 372401.0\n",
            "72 ST 08/26/2019 70 5631392.0\n",
            "72 ST 08/26/2019 871 2543403.0\n",
            "72 ST 08/26/2019 468 620636.0\n",
            "72 ST 08/26/2019 892 1975856.0\n",
            "72 ST 08/23/2019 438 205932.0\n",
            "157 ST 09/12/2019 2473 22554699.0\n",
            "MARBLE HILL-225 09/08/2019 281 1449982.0\n",
            "BOWLING GREEN 09/17/2019 524288 14.0\n",
            "BROOKLYN BRIDGE 08/20/2019 6 545478.0\n",
            "BROOKLYN BRIDGE 08/24/2019 458755 0.0\n",
            "GRD CNTRL-42 ST 08/29/2019 2160 392982.0\n",
            "GRD CNTRL-42 ST 09/15/2019 568 216736.0\n",
            "GRD CNTRL-42 ST 08/26/2019 933 1285128.0\n",
            "GRD CNTRL-42 ST 08/21/2019 1543 10213611.0\n",
            "51 ST 09/12/2019 569320958 779190.0\n",
            "FORDHAM RD 09/18/2019 33601461 187873.0\n",
            "PARKCHESTER 09/17/2019 935 3674106.0\n",
            "5 AVE 09/11/2019 1865 991539888.0\n",
            "36 AV 08/30/2019 583 1447158.0\n",
            "JUNCTION BLVD 09/15/2019 0 341471.0\n",
            "BOROUGH HALL 08/31/2019 552 12409427.0\n",
            "BOROUGH HALL 08/31/2019 328 8327272.0\n",
            "BOROUGH HALL 08/31/2019 112 5369177.0\n",
            "RIT-MANHATTAN 09/19/2019 1395 492094.0\n"
          ],
          "name": "stdout"
        }
      ]
    },
    {
      "cell_type": "code",
      "metadata": {
        "id": "AsN8ON9CLxAy",
        "outputId": "eebe678d-55c1-45e5-f5c6-1ca37ce96905",
        "colab": {
          "base_uri": "https://localhost:8080/",
          "height": 609
        }
      },
      "source": [
        "#Plot the number of entries per day as a histogram to examine the shape of the data. It looks pretty good- roughly what you'd expect, where there is little activity much of the time. \n",
        "plt.figure(figsize = [10,10])\n",
        "plt.hist(df_events_per_day[\"DAILY_ENTRIES\"],50,log=True);\n",
        "# we will drop outliers\n",
        "df_events_per_day.shape"
      ],
      "execution_count": null,
      "outputs": [
        {
          "output_type": "execute_result",
          "data": {
            "text/plain": [
              "(166028, 11)"
            ]
          },
          "metadata": {
            "tags": []
          },
          "execution_count": 78
        },
        {
          "output_type": "display_data",
          "data": {
            "image/png": "[encoded data removed]",
            "text/plain": [
              "<Figure size 720x720 with 1 Axes>"
            ]
          },
          "metadata": {
            "tags": [],
            "needs_background": "light"
          }
        }
      ]
    },
    {
      "cell_type": "code",
      "metadata": {
        "id": "X90UW02BFjmz",
        "outputId": "30e35b29-1518-40db-ea79-1315618805a7",
        "colab": {
          "base_uri": "https://localhost:8080/",
          "height": 34
        }
      },
      "source": [
        "#explore what the high-end outliers look like\n",
        "df_events_per_day[df_events_per_day[\"DAILY_ENTRIES\"] > 20000].groupby([\"STATION\"]).head()\n",
        "\n",
        "#if min(entries, previous_entries)<10000 and max(entries, previous entries)>20000: daily entries = min(entries, previous entries)\n",
        "\n",
        "#df_events_per_day[(df_events_per_day[\"STATION\"] == \"NECK RD\") & (df_events_per_day[\"DATE\"] == \"8/20/2019\")].head()\n",
        "#df_events_per_day[(df_events_per_day[\"STATION\"] == \"AVENUE H\") & (df_events_per_day[\"DATE\"] == \"09/06/2019\")]\n",
        "df_events_per_day.shape"
      ],
      "execution_count": null,
      "outputs": [
        {
          "output_type": "execute_result",
          "data": {
            "text/plain": [
              "(166028, 11)"
            ]
          },
          "metadata": {
            "tags": []
          },
          "execution_count": 79
        }
      ]
    },
    {
      "cell_type": "code",
      "metadata": {
        "id": "LDRUZykaIHy8",
        "outputId": "71a090a1-c701-439a-ddeb-809652dfec22",
        "colab": {
          "base_uri": "https://localhost:8080/",
          "height": 419
        }
      },
      "source": [
        "#Examining the US Daily Open. Is it special?\n",
        "df_events_per_day[(df_events_per_day[\"DATE\"] > '08/26/2019') & (df_events_per_day[\"DATE\"] < '09/08/2019')]"
      ],
      "execution_count": null,
      "outputs": [
        {
          "output_type": "execute_result",
          "data": {
            "text/html": [
              "<div>\n",
              "<style scoped>\n",
              "    .dataframe tbody tr th:only-of-type {\n",
              "        vertical-align: middle;\n",
              "    }\n",
              "\n",
              "    .dataframe tbody tr th {\n",
              "        vertical-align: top;\n",
              "    }\n",
              "\n",
              "    .dataframe thead th {\n",
              "        text-align: right;\n",
              "    }\n",
              "</style>\n",
              "<table border=\"1\" class=\"dataframe\">\n",
              "  <thead>\n",
              "    <tr style=\"text-align: right;\">\n",
              "      <th></th>\n",
              "      <th>TURNSTILE_ID</th>\n",
              "      <th>ENTRIES</th>\n",
              "      <th>C/A</th>\n",
              "      <th>UNIT</th>\n",
              "      <th>SCP</th>\n",
              "      <th>STATION</th>\n",
              "      <th>TIME</th>\n",
              "      <th>date_time</th>\n",
              "      <th>DATE</th>\n",
              "      <th>previous_entries</th>\n",
              "      <th>DAILY_ENTRIES</th>\n",
              "    </tr>\n",
              "  </thead>\n",
              "  <tbody>\n",
              "    <tr>\n",
              "      <th>11</th>\n",
              "      <td>A002_R051_02-00-00_59 ST</td>\n",
              "      <td>7179982</td>\n",
              "      <td>A002</td>\n",
              "      <td>R051</td>\n",
              "      <td>02-00-00</td>\n",
              "      <td>59 ST</td>\n",
              "      <td>00:00:00</td>\n",
              "      <td>2019-08-28 00:00:00</td>\n",
              "      <td>08/27/2019</td>\n",
              "      <td>7178840.0</td>\n",
              "      <td>1142.0</td>\n",
              "    </tr>\n",
              "    <tr>\n",
              "      <th>12</th>\n",
              "      <td>A002_R051_02-00-00_59 ST</td>\n",
              "      <td>7181051</td>\n",
              "      <td>A002</td>\n",
              "      <td>R051</td>\n",
              "      <td>02-00-00</td>\n",
              "      <td>59 ST</td>\n",
              "      <td>00:00:00</td>\n",
              "      <td>2019-08-29 00:00:00</td>\n",
              "      <td>08/28/2019</td>\n",
              "      <td>7179982.0</td>\n",
              "      <td>1069.0</td>\n",
              "    </tr>\n",
              "    <tr>\n",
              "      <th>13</th>\n",
              "      <td>A002_R051_02-00-00_59 ST</td>\n",
              "      <td>7182148</td>\n",
              "      <td>A002</td>\n",
              "      <td>R051</td>\n",
              "      <td>02-00-00</td>\n",
              "      <td>59 ST</td>\n",
              "      <td>00:00:00</td>\n",
              "      <td>2019-08-30 00:00:00</td>\n",
              "      <td>08/29/2019</td>\n",
              "      <td>7181051.0</td>\n",
              "      <td>1097.0</td>\n",
              "    </tr>\n",
              "    <tr>\n",
              "      <th>14</th>\n",
              "      <td>A002_R051_02-00-00_59 ST</td>\n",
              "      <td>7183242</td>\n",
              "      <td>A002</td>\n",
              "      <td>R051</td>\n",
              "      <td>02-00-00</td>\n",
              "      <td>59 ST</td>\n",
              "      <td>00:00:00</td>\n",
              "      <td>2019-08-31 00:00:00</td>\n",
              "      <td>08/30/2019</td>\n",
              "      <td>7182148.0</td>\n",
              "      <td>1094.0</td>\n",
              "    </tr>\n",
              "    <tr>\n",
              "      <th>15</th>\n",
              "      <td>A002_R051_02-00-00_59 ST</td>\n",
              "      <td>7184008</td>\n",
              "      <td>A002</td>\n",
              "      <td>R051</td>\n",
              "      <td>02-00-00</td>\n",
              "      <td>59 ST</td>\n",
              "      <td>00:00:00</td>\n",
              "      <td>2019-09-01 00:00:00</td>\n",
              "      <td>08/31/2019</td>\n",
              "      <td>7183242.0</td>\n",
              "      <td>766.0</td>\n",
              "    </tr>\n",
              "    <tr>\n",
              "      <th>...</th>\n",
              "      <td>...</td>\n",
              "      <td>...</td>\n",
              "      <td>...</td>\n",
              "      <td>...</td>\n",
              "      <td>...</td>\n",
              "      <td>...</td>\n",
              "      <td>...</td>\n",
              "      <td>...</td>\n",
              "      <td>...</td>\n",
              "      <td>...</td>\n",
              "      <td>...</td>\n",
              "    </tr>\n",
              "    <tr>\n",
              "      <th>170945</th>\n",
              "      <td>TRAM2_R469_00-05-01_RIT-ROOSEVELT</td>\n",
              "      <td>5554</td>\n",
              "      <td>TRAM2</td>\n",
              "      <td>R469</td>\n",
              "      <td>00-05-01</td>\n",
              "      <td>RIT-ROOSEVELT</td>\n",
              "      <td>01:00:00</td>\n",
              "      <td>2019-09-04 01:00:00</td>\n",
              "      <td>09/03/2019</td>\n",
              "      <td>5554.0</td>\n",
              "      <td>0.0</td>\n",
              "    </tr>\n",
              "    <tr>\n",
              "      <th>170946</th>\n",
              "      <td>TRAM2_R469_00-05-01_RIT-ROOSEVELT</td>\n",
              "      <td>5554</td>\n",
              "      <td>TRAM2</td>\n",
              "      <td>R469</td>\n",
              "      <td>00-05-01</td>\n",
              "      <td>RIT-ROOSEVELT</td>\n",
              "      <td>01:00:00</td>\n",
              "      <td>2019-09-05 01:00:00</td>\n",
              "      <td>09/04/2019</td>\n",
              "      <td>5554.0</td>\n",
              "      <td>0.0</td>\n",
              "    </tr>\n",
              "    <tr>\n",
              "      <th>170947</th>\n",
              "      <td>TRAM2_R469_00-05-01_RIT-ROOSEVELT</td>\n",
              "      <td>5554</td>\n",
              "      <td>TRAM2</td>\n",
              "      <td>R469</td>\n",
              "      <td>00-05-01</td>\n",
              "      <td>RIT-ROOSEVELT</td>\n",
              "      <td>01:00:00</td>\n",
              "      <td>2019-09-06 01:00:00</td>\n",
              "      <td>09/05/2019</td>\n",
              "      <td>5554.0</td>\n",
              "      <td>0.0</td>\n",
              "    </tr>\n",
              "    <tr>\n",
              "      <th>170948</th>\n",
              "      <td>TRAM2_R469_00-05-01_RIT-ROOSEVELT</td>\n",
              "      <td>5554</td>\n",
              "      <td>TRAM2</td>\n",
              "      <td>R469</td>\n",
              "      <td>00-05-01</td>\n",
              "      <td>RIT-ROOSEVELT</td>\n",
              "      <td>01:00:00</td>\n",
              "      <td>2019-09-07 01:00:00</td>\n",
              "      <td>09/06/2019</td>\n",
              "      <td>5554.0</td>\n",
              "      <td>0.0</td>\n",
              "    </tr>\n",
              "    <tr>\n",
              "      <th>170949</th>\n",
              "      <td>TRAM2_R469_00-05-01_RIT-ROOSEVELT</td>\n",
              "      <td>5554</td>\n",
              "      <td>TRAM2</td>\n",
              "      <td>R469</td>\n",
              "      <td>00-05-01</td>\n",
              "      <td>RIT-ROOSEVELT</td>\n",
              "      <td>01:00:00</td>\n",
              "      <td>2019-09-08 01:00:00</td>\n",
              "      <td>09/07/2019</td>\n",
              "      <td>5554.0</td>\n",
              "      <td>0.0</td>\n",
              "    </tr>\n",
              "  </tbody>\n",
              "</table>\n",
              "<p>58626 rows × 11 columns</p>\n",
              "</div>"
            ],
            "text/plain": [
              "                             TURNSTILE_ID  ...  DAILY_ENTRIES\n",
              "11               A002_R051_02-00-00_59 ST  ...         1142.0\n",
              "12               A002_R051_02-00-00_59 ST  ...         1069.0\n",
              "13               A002_R051_02-00-00_59 ST  ...         1097.0\n",
              "14               A002_R051_02-00-00_59 ST  ...         1094.0\n",
              "15               A002_R051_02-00-00_59 ST  ...          766.0\n",
              "...                                   ...  ...            ...\n",
              "170945  TRAM2_R469_00-05-01_RIT-ROOSEVELT  ...            0.0\n",
              "170946  TRAM2_R469_00-05-01_RIT-ROOSEVELT  ...            0.0\n",
              "170947  TRAM2_R469_00-05-01_RIT-ROOSEVELT  ...            0.0\n",
              "170948  TRAM2_R469_00-05-01_RIT-ROOSEVELT  ...            0.0\n",
              "170949  TRAM2_R469_00-05-01_RIT-ROOSEVELT  ...            0.0\n",
              "\n",
              "[58626 rows x 11 columns]"
            ]
          },
          "metadata": {
            "tags": []
          },
          "execution_count": 80
        }
      ]
    },
    {
      "cell_type": "code",
      "metadata": {
        "id": "l0zQKWg7Pxz3",
        "outputId": "1e8f3004-900d-49a6-f1e2-8a7c9faff23c",
        "colab": {
          "base_uri": "https://localhost:8080/",
          "height": 863
        }
      },
      "source": [
        "plt.figure(figsize = [10,15])\n",
        "plt.hist(df_events_per_day[\"DAILY_ENTRIES\"],50,log=True);"
      ],
      "execution_count": null,
      "outputs": [
        {
          "output_type": "display_data",
          "data": {
            "image/png": "[encoded data removed]",
            "text/plain": [
              "<Figure size 720x1080 with 1 Axes>"
            ]
          },
          "metadata": {
            "tags": [],
            "needs_background": "light"
          }
        }
      ]
    },
    {
      "cell_type": "code",
      "metadata": {
        "id": "3EMQXqUEQpeS"
      },
      "source": [
        "#remove the daily_entries entries where daily_enries == 0"
      ],
      "execution_count": null,
      "outputs": []
    },
    {
      "cell_type": "code",
      "metadata": {
        "id": "jOYv4IjHBJ8S"
      },
      "source": [
        "yearmark = pd.Timestamp('20190101')"
      ],
      "execution_count": null,
      "outputs": []
    },
    {
      "cell_type": "markdown",
      "metadata": {
        "id": "Zxs9Q2_MFCe5"
      },
      "source": [
        "#Challenge 4"
      ]
    },
    {
      "cell_type": "markdown",
      "metadata": {
        "id": "27IOHgtFY3TT"
      },
      "source": [
        "We will plot the daily time series for a single turnstile.\n",
        "\n"
      ]
    },
    {
      "cell_type": "code",
      "metadata": {
        "id": "MSDgb2Yn7yKY",
        "outputId": "a07df998-0296-4fc7-9b52-58c5b4f5d439",
        "colab": {
          "base_uri": "https://localhost:8080/",
          "height": 204
        }
      },
      "source": [
        "chosen_id = 'A002_R051_02-00-00_59 ST'\n",
        "\n",
        "df_oneturnstile_daily = df_events_per_day[df_events_per_day['TURNSTILE_ID']==chosen_id]\n",
        "df_oneturnstile_daily.head(5)"
      ],
      "execution_count": null,
      "outputs": [
        {
          "output_type": "execute_result",
          "data": {
            "text/html": [
              "<div>\n",
              "<style scoped>\n",
              "    .dataframe tbody tr th:only-of-type {\n",
              "        vertical-align: middle;\n",
              "    }\n",
              "\n",
              "    .dataframe tbody tr th {\n",
              "        vertical-align: top;\n",
              "    }\n",
              "\n",
              "    .dataframe thead th {\n",
              "        text-align: right;\n",
              "    }\n",
              "</style>\n",
              "<table border=\"1\" class=\"dataframe\">\n",
              "  <thead>\n",
              "    <tr style=\"text-align: right;\">\n",
              "      <th></th>\n",
              "      <th>TURNSTILE_ID</th>\n",
              "      <th>ENTRIES</th>\n",
              "      <th>C/A</th>\n",
              "      <th>UNIT</th>\n",
              "      <th>SCP</th>\n",
              "      <th>STATION</th>\n",
              "      <th>TIME</th>\n",
              "      <th>date_time</th>\n",
              "      <th>DATE</th>\n",
              "      <th>previous_entries</th>\n",
              "      <th>DAILY_ENTRIES</th>\n",
              "    </tr>\n",
              "  </thead>\n",
              "  <tbody>\n",
              "    <tr>\n",
              "      <th>1</th>\n",
              "      <td>A002_R051_02-00-00_59 ST</td>\n",
              "      <td>7170943</td>\n",
              "      <td>A002</td>\n",
              "      <td>R051</td>\n",
              "      <td>02-00-00</td>\n",
              "      <td>59 ST</td>\n",
              "      <td>00:00:00</td>\n",
              "      <td>2019-08-18</td>\n",
              "      <td>08/17/2019</td>\n",
              "      <td>7170294.0</td>\n",
              "      <td>649.0</td>\n",
              "    </tr>\n",
              "    <tr>\n",
              "      <th>2</th>\n",
              "      <td>A002_R051_02-00-00_59 ST</td>\n",
              "      <td>7171363</td>\n",
              "      <td>A002</td>\n",
              "      <td>R051</td>\n",
              "      <td>02-00-00</td>\n",
              "      <td>59 ST</td>\n",
              "      <td>00:00:00</td>\n",
              "      <td>2019-08-19</td>\n",
              "      <td>08/18/2019</td>\n",
              "      <td>7170943.0</td>\n",
              "      <td>420.0</td>\n",
              "    </tr>\n",
              "    <tr>\n",
              "      <th>3</th>\n",
              "      <td>A002_R051_02-00-00_59 ST</td>\n",
              "      <td>7172478</td>\n",
              "      <td>A002</td>\n",
              "      <td>R051</td>\n",
              "      <td>02-00-00</td>\n",
              "      <td>59 ST</td>\n",
              "      <td>00:00:00</td>\n",
              "      <td>2019-08-20</td>\n",
              "      <td>08/19/2019</td>\n",
              "      <td>7171363.0</td>\n",
              "      <td>1115.0</td>\n",
              "    </tr>\n",
              "    <tr>\n",
              "      <th>4</th>\n",
              "      <td>A002_R051_02-00-00_59 ST</td>\n",
              "      <td>7173517</td>\n",
              "      <td>A002</td>\n",
              "      <td>R051</td>\n",
              "      <td>02-00-00</td>\n",
              "      <td>59 ST</td>\n",
              "      <td>00:00:00</td>\n",
              "      <td>2019-08-21</td>\n",
              "      <td>08/20/2019</td>\n",
              "      <td>7172478.0</td>\n",
              "      <td>1039.0</td>\n",
              "    </tr>\n",
              "    <tr>\n",
              "      <th>5</th>\n",
              "      <td>A002_R051_02-00-00_59 ST</td>\n",
              "      <td>7174625</td>\n",
              "      <td>A002</td>\n",
              "      <td>R051</td>\n",
              "      <td>02-00-00</td>\n",
              "      <td>59 ST</td>\n",
              "      <td>00:00:00</td>\n",
              "      <td>2019-08-22</td>\n",
              "      <td>08/21/2019</td>\n",
              "      <td>7173517.0</td>\n",
              "      <td>1108.0</td>\n",
              "    </tr>\n",
              "  </tbody>\n",
              "</table>\n",
              "</div>"
            ],
            "text/plain": [
              "               TURNSTILE_ID  ENTRIES  ... previous_entries DAILY_ENTRIES\n",
              "1  A002_R051_02-00-00_59 ST  7170943  ...        7170294.0         649.0\n",
              "2  A002_R051_02-00-00_59 ST  7171363  ...        7170943.0         420.0\n",
              "3  A002_R051_02-00-00_59 ST  7172478  ...        7171363.0        1115.0\n",
              "4  A002_R051_02-00-00_59 ST  7173517  ...        7172478.0        1039.0\n",
              "5  A002_R051_02-00-00_59 ST  7174625  ...        7173517.0        1108.0\n",
              "\n",
              "[5 rows x 11 columns]"
            ]
          },
          "metadata": {
            "tags": []
          },
          "execution_count": 84
        }
      ]
    },
    {
      "cell_type": "code",
      "metadata": {
        "id": "vN2MpAXS-CE6",
        "outputId": "55f82c01-f13d-4927-cdf3-acda4763c5dc",
        "colab": {
          "base_uri": "https://localhost:8080/",
          "height": 269
        }
      },
      "source": [
        "%matplotlib inline\n",
        "\n",
        "plt.figure(figsize=(15,3))\n",
        "plt.plot(df_oneturnstile_daily['DATE'],df_oneturnstile_daily['ENTRIES'])\n",
        "plt.xticks(rotation='vertical')\n",
        "plt.show()\n"
      ],
      "execution_count": null,
      "outputs": [
        {
          "output_type": "display_data",
          "data": {
            "image/png": "[encoded data removed]",
            "text/plain": [
              "<Figure size 1080x216 with 1 Axes>"
            ]
          },
          "metadata": {
            "tags": [],
            "needs_background": "light"
          }
        }
      ]
    },
    {
      "cell_type": "code",
      "metadata": {
        "id": "ciONOuXrDl6L"
      },
      "source": [
        "#df.groupby(['TURNSTILE_ID','DATE'])['TIME'].min().reset_index().sort_values(by='TIME',ascending=False)"
      ],
      "execution_count": null,
      "outputs": []
    },
    {
      "cell_type": "markdown",
      "metadata": {
        "id": "sqDwK9JwGH9A"
      },
      "source": [
        "#Challenge 5\n"
      ]
    },
    {
      "cell_type": "markdown",
      "metadata": {
        "id": "7LN5XcVcdT_n"
      },
      "source": [
        "Group turnstiles in the same control area/unit/station."
      ]
    },
    {
      "cell_type": "code",
      "metadata": {
        "id": "-dNnC0yWED0A",
        "outputId": "357c28cd-4a98-4ed6-c296-01325f0f0831",
        "colab": {
          "base_uri": "https://localhost:8080/",
          "height": 238
        }
      },
      "source": [
        "# same value for the C/A, UNIT and STATION columns, different values for the SCP column.\n",
        "df_events_per_day['turnstile_group'] = df_events_per_day['C/A']+'_'+ df_events_per_day['UNIT']+'_' + df_events_per_day['STATION']\n",
        "\n",
        "df_events_per_day.groupby(['turnstile_group','DATE'])['DAILY_ENTRIES'].sum()"
      ],
      "execution_count": null,
      "outputs": [
        {
          "output_type": "execute_result",
          "data": {
            "text/plain": [
              "turnstile_group           DATE      \n",
              "A002_R051_59 ST           08/17/2019     7640.0\n",
              "                          08/18/2019     6135.0\n",
              "                          08/19/2019    11387.0\n",
              "                          08/20/2019    11906.0\n",
              "                          08/21/2019    11957.0\n",
              "                                         ...   \n",
              "TRAM2_R469_RIT-ROOSEVELT  09/15/2019     4084.0\n",
              "                          09/16/2019     3246.0\n",
              "                          09/17/2019     3488.0\n",
              "                          09/18/2019     3431.0\n",
              "                          09/19/2019     3629.0\n",
              "Name: DAILY_ENTRIES, Length: 25349, dtype: float64"
            ]
          },
          "metadata": {
            "tags": []
          },
          "execution_count": 90
        }
      ]
    },
    {
      "cell_type": "markdown",
      "metadata": {
        "id": "a5gPn79oIL1Z"
      },
      "source": [
        "#Challenge 6"
      ]
    },
    {
      "cell_type": "markdown",
      "metadata": {
        "id": "lAgx_FbOdeBq"
      },
      "source": [
        "Combine everything in each station, and create daily time series."
      ]
    },
    {
      "cell_type": "code",
      "metadata": {
        "id": "sxjbODdUH6rF",
        "outputId": "e068026b-4a46-4813-c200-c865b77d6255",
        "colab": {
          "base_uri": "https://localhost:8080/",
          "height": 71
        }
      },
      "source": [
        "df_daily_station = df_events_per_day.groupby(['STATION','DATE'])['DAILY_ENTRIES', 'date_time', 'DATE'].sum().reset_index()\n",
        "df_daily_station[\"day_of_week\"] = pd.to_datetime(df_daily_station['DATE']).dt.day_name()\n",
        "df_daily_station.to_csv(\"Csv_cleaned.csv\")"
      ],
      "execution_count": null,
      "outputs": [
        {
          "output_type": "stream",
          "text": [
            "/usr/local/lib/python3.6/dist-packages/ipykernel_launcher.py:1: FutureWarning: Indexing with multiple keys (implicitly converted to a tuple of keys) will be deprecated, use a list instead.\n",
            "  \"\"\"Entry point for launching an IPython kernel.\n"
          ],
          "name": "stderr"
        }
      ]
    },
    {
      "cell_type": "markdown",
      "metadata": {
        "id": "pFU2QjbAIPWQ"
      },
      "source": [
        "#Challenge 7"
      ]
    },
    {
      "cell_type": "code",
      "metadata": {
        "id": "bcS7S8BAIRG6",
        "outputId": "ca1cf882-6ccb-4382-898d-5f6c7c8f1d96",
        "colab": {
          "base_uri": "https://localhost:8080/",
          "height": 258
        }
      },
      "source": [
        "df_onestation_daily = df_daily_station[df_daily_station['STATION']=='1 AV']\n",
        "\n",
        "\n",
        "\n",
        "plt.figure(figsize=(15,3))\n",
        "plt.plot(df_onestation_daily['DATE'],df_onestation_daily['DAILY_ENTRIES'])\n",
        "plt.xticks(rotation='vertical')\n",
        "plt.show()"
      ],
      "execution_count": null,
      "outputs": [
        {
          "output_type": "display_data",
          "data": {
            "image/png": "[encoded data removed]",
            "text/plain": [
              "<Figure size 1080x216 with 1 Axes>"
            ]
          },
          "metadata": {
            "tags": [],
            "needs_background": "light"
          }
        }
      ]
    },
    {
      "cell_type": "code",
      "metadata": {
        "id": "qy00pn1sGo7H",
        "outputId": "bf036882-5916-43c5-9331-18cb58dc68ca",
        "colab": {
          "base_uri": "https://localhost:8080/",
          "height": 204
        }
      },
      "source": [
        "df_events_per_day.head()"
      ],
      "execution_count": null,
      "outputs": [
        {
          "output_type": "execute_result",
          "data": {
            "text/html": [
              "<div>\n",
              "<style scoped>\n",
              "    .dataframe tbody tr th:only-of-type {\n",
              "        vertical-align: middle;\n",
              "    }\n",
              "\n",
              "    .dataframe tbody tr th {\n",
              "        vertical-align: top;\n",
              "    }\n",
              "\n",
              "    .dataframe thead th {\n",
              "        text-align: right;\n",
              "    }\n",
              "</style>\n",
              "<table border=\"1\" class=\"dataframe\">\n",
              "  <thead>\n",
              "    <tr style=\"text-align: right;\">\n",
              "      <th></th>\n",
              "      <th>TURNSTILE_ID</th>\n",
              "      <th>ENTRIES</th>\n",
              "      <th>C/A</th>\n",
              "      <th>UNIT</th>\n",
              "      <th>SCP</th>\n",
              "      <th>STATION</th>\n",
              "      <th>TIME</th>\n",
              "      <th>date_time</th>\n",
              "      <th>DATE</th>\n",
              "      <th>previous_entries</th>\n",
              "      <th>DAILY_ENTRIES</th>\n",
              "    </tr>\n",
              "  </thead>\n",
              "  <tbody>\n",
              "    <tr>\n",
              "      <th>1</th>\n",
              "      <td>A002_R051_02-00-00_59 ST</td>\n",
              "      <td>7170943</td>\n",
              "      <td>A002</td>\n",
              "      <td>R051</td>\n",
              "      <td>02-00-00</td>\n",
              "      <td>59 ST</td>\n",
              "      <td>00:00:00</td>\n",
              "      <td>2019-08-18</td>\n",
              "      <td>08/17/2019</td>\n",
              "      <td>7170294.0</td>\n",
              "      <td>649.0</td>\n",
              "    </tr>\n",
              "    <tr>\n",
              "      <th>2</th>\n",
              "      <td>A002_R051_02-00-00_59 ST</td>\n",
              "      <td>7171363</td>\n",
              "      <td>A002</td>\n",
              "      <td>R051</td>\n",
              "      <td>02-00-00</td>\n",
              "      <td>59 ST</td>\n",
              "      <td>00:00:00</td>\n",
              "      <td>2019-08-19</td>\n",
              "      <td>08/18/2019</td>\n",
              "      <td>7170943.0</td>\n",
              "      <td>420.0</td>\n",
              "    </tr>\n",
              "    <tr>\n",
              "      <th>3</th>\n",
              "      <td>A002_R051_02-00-00_59 ST</td>\n",
              "      <td>7172478</td>\n",
              "      <td>A002</td>\n",
              "      <td>R051</td>\n",
              "      <td>02-00-00</td>\n",
              "      <td>59 ST</td>\n",
              "      <td>00:00:00</td>\n",
              "      <td>2019-08-20</td>\n",
              "      <td>08/19/2019</td>\n",
              "      <td>7171363.0</td>\n",
              "      <td>1115.0</td>\n",
              "    </tr>\n",
              "    <tr>\n",
              "      <th>4</th>\n",
              "      <td>A002_R051_02-00-00_59 ST</td>\n",
              "      <td>7173517</td>\n",
              "      <td>A002</td>\n",
              "      <td>R051</td>\n",
              "      <td>02-00-00</td>\n",
              "      <td>59 ST</td>\n",
              "      <td>00:00:00</td>\n",
              "      <td>2019-08-21</td>\n",
              "      <td>08/20/2019</td>\n",
              "      <td>7172478.0</td>\n",
              "      <td>1039.0</td>\n",
              "    </tr>\n",
              "    <tr>\n",
              "      <th>5</th>\n",
              "      <td>A002_R051_02-00-00_59 ST</td>\n",
              "      <td>7174625</td>\n",
              "      <td>A002</td>\n",
              "      <td>R051</td>\n",
              "      <td>02-00-00</td>\n",
              "      <td>59 ST</td>\n",
              "      <td>00:00:00</td>\n",
              "      <td>2019-08-22</td>\n",
              "      <td>08/21/2019</td>\n",
              "      <td>7173517.0</td>\n",
              "      <td>1108.0</td>\n",
              "    </tr>\n",
              "  </tbody>\n",
              "</table>\n",
              "</div>"
            ],
            "text/plain": [
              "               TURNSTILE_ID  ENTRIES  ... previous_entries DAILY_ENTRIES\n",
              "1  A002_R051_02-00-00_59 ST  7170943  ...        7170294.0         649.0\n",
              "2  A002_R051_02-00-00_59 ST  7171363  ...        7170943.0         420.0\n",
              "3  A002_R051_02-00-00_59 ST  7172478  ...        7171363.0        1115.0\n",
              "4  A002_R051_02-00-00_59 ST  7173517  ...        7172478.0        1039.0\n",
              "5  A002_R051_02-00-00_59 ST  7174625  ...        7173517.0        1108.0\n",
              "\n",
              "[5 rows x 11 columns]"
            ]
          },
          "metadata": {
            "tags": []
          },
          "execution_count": 32
        }
      ]
    },
    {
      "cell_type": "markdown",
      "metadata": {
        "id": "wlz1AYtp2ZUi"
      },
      "source": [
        "# Challenge 8\n",
        "> Make one list of counts for one week for one station. Monday's count, Tuesday's count, etc. so it's a list of 7 counts. Make the same list for another week, and another week, and another week. (hint: pandas datetime day of week may be useful)\n",
        "plt.plot(week_count_list) for every week_count_list you created this way. You should get a rainbow plot of weekly commute numbers on top of each other.\n",
        "\n"
      ]
    },
    {
      "cell_type": "code",
      "metadata": {
        "id": "bKQkmUCJ2aZx",
        "outputId": "c7f85ea8-86a6-47ae-fb6a-e89531dd1833",
        "colab": {
          "base_uri": "https://localhost:8080/",
          "height": 204
        }
      },
      "source": [
        "#df[\"date_time\"].dt.dayofweek()\n",
        "#df[\"date_time\"]\n",
        "\n",
        "#creating a new col where each entry is the day of the week corresponding to the date_time value for that entry\n",
        "df[\"day_of_week\"] = df[\"date_time\"].dt.day_name()\n",
        "df[\"day_of_week\"]\n",
        "df.head(5)"
      ],
      "execution_count": null,
      "outputs": [
        {
          "output_type": "execute_result",
          "data": {
            "text/html": [
              "<div>\n",
              "<style scoped>\n",
              "    .dataframe tbody tr th:only-of-type {\n",
              "        vertical-align: middle;\n",
              "    }\n",
              "\n",
              "    .dataframe tbody tr th {\n",
              "        vertical-align: top;\n",
              "    }\n",
              "\n",
              "    .dataframe thead th {\n",
              "        text-align: right;\n",
              "    }\n",
              "</style>\n",
              "<table border=\"1\" class=\"dataframe\">\n",
              "  <thead>\n",
              "    <tr style=\"text-align: right;\">\n",
              "      <th></th>\n",
              "      <th>C/A</th>\n",
              "      <th>UNIT</th>\n",
              "      <th>SCP</th>\n",
              "      <th>STATION</th>\n",
              "      <th>LINENAME</th>\n",
              "      <th>DIVISION</th>\n",
              "      <th>DATE</th>\n",
              "      <th>TIME</th>\n",
              "      <th>DESC</th>\n",
              "      <th>ENTRIES</th>\n",
              "      <th>EXITS</th>\n",
              "      <th>date_time</th>\n",
              "      <th>TURNSTILE_ID</th>\n",
              "      <th>HOURLY_ENTRY</th>\n",
              "      <th>STATION_ID</th>\n",
              "      <th>day_of_week</th>\n",
              "    </tr>\n",
              "  </thead>\n",
              "  <tbody>\n",
              "    <tr>\n",
              "      <th>820571</th>\n",
              "      <td>A002</td>\n",
              "      <td>R051</td>\n",
              "      <td>02-00-00</td>\n",
              "      <td>59 ST</td>\n",
              "      <td>NQR456W</td>\n",
              "      <td>BMT</td>\n",
              "      <td>08/17/2019</td>\n",
              "      <td>00:00:00</td>\n",
              "      <td>REGULAR</td>\n",
              "      <td>7170294</td>\n",
              "      <td>2427642</td>\n",
              "      <td>2019-08-17 00:00:00</td>\n",
              "      <td>A002_R051_02-00-00_59 ST</td>\n",
              "      <td>NaN</td>\n",
              "      <td>A002_R051_59 ST</td>\n",
              "      <td>Saturday</td>\n",
              "    </tr>\n",
              "    <tr>\n",
              "      <th>820572</th>\n",
              "      <td>A002</td>\n",
              "      <td>R051</td>\n",
              "      <td>02-00-00</td>\n",
              "      <td>59 ST</td>\n",
              "      <td>NQR456W</td>\n",
              "      <td>BMT</td>\n",
              "      <td>08/17/2019</td>\n",
              "      <td>04:00:00</td>\n",
              "      <td>REGULAR</td>\n",
              "      <td>7170310</td>\n",
              "      <td>2427649</td>\n",
              "      <td>2019-08-17 04:00:00</td>\n",
              "      <td>A002_R051_02-00-00_59 ST</td>\n",
              "      <td>16.0</td>\n",
              "      <td>A002_R051_59 ST</td>\n",
              "      <td>Saturday</td>\n",
              "    </tr>\n",
              "    <tr>\n",
              "      <th>820573</th>\n",
              "      <td>A002</td>\n",
              "      <td>R051</td>\n",
              "      <td>02-00-00</td>\n",
              "      <td>59 ST</td>\n",
              "      <td>NQR456W</td>\n",
              "      <td>BMT</td>\n",
              "      <td>08/17/2019</td>\n",
              "      <td>08:00:00</td>\n",
              "      <td>REGULAR</td>\n",
              "      <td>7170330</td>\n",
              "      <td>2427678</td>\n",
              "      <td>2019-08-17 08:00:00</td>\n",
              "      <td>A002_R051_02-00-00_59 ST</td>\n",
              "      <td>20.0</td>\n",
              "      <td>A002_R051_59 ST</td>\n",
              "      <td>Saturday</td>\n",
              "    </tr>\n",
              "    <tr>\n",
              "      <th>820574</th>\n",
              "      <td>A002</td>\n",
              "      <td>R051</td>\n",
              "      <td>02-00-00</td>\n",
              "      <td>59 ST</td>\n",
              "      <td>NQR456W</td>\n",
              "      <td>BMT</td>\n",
              "      <td>08/17/2019</td>\n",
              "      <td>12:00:00</td>\n",
              "      <td>REGULAR</td>\n",
              "      <td>7170410</td>\n",
              "      <td>2427748</td>\n",
              "      <td>2019-08-17 12:00:00</td>\n",
              "      <td>A002_R051_02-00-00_59 ST</td>\n",
              "      <td>80.0</td>\n",
              "      <td>A002_R051_59 ST</td>\n",
              "      <td>Saturday</td>\n",
              "    </tr>\n",
              "    <tr>\n",
              "      <th>820575</th>\n",
              "      <td>A002</td>\n",
              "      <td>R051</td>\n",
              "      <td>02-00-00</td>\n",
              "      <td>59 ST</td>\n",
              "      <td>NQR456W</td>\n",
              "      <td>BMT</td>\n",
              "      <td>08/17/2019</td>\n",
              "      <td>16:00:00</td>\n",
              "      <td>REGULAR</td>\n",
              "      <td>7170594</td>\n",
              "      <td>2427804</td>\n",
              "      <td>2019-08-17 16:00:00</td>\n",
              "      <td>A002_R051_02-00-00_59 ST</td>\n",
              "      <td>184.0</td>\n",
              "      <td>A002_R051_59 ST</td>\n",
              "      <td>Saturday</td>\n",
              "    </tr>\n",
              "  </tbody>\n",
              "</table>\n",
              "</div>"
            ],
            "text/plain": [
              "         C/A  UNIT       SCP  ... HOURLY_ENTRY       STATION_ID day_of_week\n",
              "820571  A002  R051  02-00-00  ...          NaN  A002_R051_59 ST    Saturday\n",
              "820572  A002  R051  02-00-00  ...         16.0  A002_R051_59 ST    Saturday\n",
              "820573  A002  R051  02-00-00  ...         20.0  A002_R051_59 ST    Saturday\n",
              "820574  A002  R051  02-00-00  ...         80.0  A002_R051_59 ST    Saturday\n",
              "820575  A002  R051  02-00-00  ...        184.0  A002_R051_59 ST    Saturday\n",
              "\n",
              "[5 rows x 16 columns]"
            ]
          },
          "metadata": {
            "tags": []
          },
          "execution_count": 33
        }
      ]
    },
    {
      "cell_type": "code",
      "metadata": {
        "id": "0I6hCWUh4bQC",
        "outputId": "e86b8c64-6976-41e0-9dda-8a1dc4c54d1b",
        "colab": {
          "base_uri": "https://localhost:8080/",
          "height": 266
        }
      },
      "source": [
        "station_id = \"59 ST\"\n",
        "df_onestation_daily.head(7)"
      ],
      "execution_count": null,
      "outputs": [
        {
          "output_type": "execute_result",
          "data": {
            "text/html": [
              "<div>\n",
              "<style scoped>\n",
              "    .dataframe tbody tr th:only-of-type {\n",
              "        vertical-align: middle;\n",
              "    }\n",
              "\n",
              "    .dataframe tbody tr th {\n",
              "        vertical-align: top;\n",
              "    }\n",
              "\n",
              "    .dataframe thead th {\n",
              "        text-align: right;\n",
              "    }\n",
              "</style>\n",
              "<table border=\"1\" class=\"dataframe\">\n",
              "  <thead>\n",
              "    <tr style=\"text-align: right;\">\n",
              "      <th></th>\n",
              "      <th>STATION</th>\n",
              "      <th>DATE</th>\n",
              "      <th>DAILY_ENTRIES</th>\n",
              "      <th>day_of_week</th>\n",
              "    </tr>\n",
              "  </thead>\n",
              "  <tbody>\n",
              "    <tr>\n",
              "      <th>0</th>\n",
              "      <td>1 AV</td>\n",
              "      <td>08/17/2019</td>\n",
              "      <td>6208.0</td>\n",
              "      <td>Saturday</td>\n",
              "    </tr>\n",
              "    <tr>\n",
              "      <th>1</th>\n",
              "      <td>1 AV</td>\n",
              "      <td>08/18/2019</td>\n",
              "      <td>4367.0</td>\n",
              "      <td>Sunday</td>\n",
              "    </tr>\n",
              "    <tr>\n",
              "      <th>2</th>\n",
              "      <td>1 AV</td>\n",
              "      <td>08/19/2019</td>\n",
              "      <td>14726.0</td>\n",
              "      <td>Monday</td>\n",
              "    </tr>\n",
              "    <tr>\n",
              "      <th>3</th>\n",
              "      <td>1 AV</td>\n",
              "      <td>08/20/2019</td>\n",
              "      <td>15737.0</td>\n",
              "      <td>Tuesday</td>\n",
              "    </tr>\n",
              "    <tr>\n",
              "      <th>4</th>\n",
              "      <td>1 AV</td>\n",
              "      <td>08/21/2019</td>\n",
              "      <td>15953.0</td>\n",
              "      <td>Wednesday</td>\n",
              "    </tr>\n",
              "    <tr>\n",
              "      <th>5</th>\n",
              "      <td>1 AV</td>\n",
              "      <td>08/22/2019</td>\n",
              "      <td>16260.0</td>\n",
              "      <td>Thursday</td>\n",
              "    </tr>\n",
              "    <tr>\n",
              "      <th>6</th>\n",
              "      <td>1 AV</td>\n",
              "      <td>08/23/2019</td>\n",
              "      <td>16765.0</td>\n",
              "      <td>Friday</td>\n",
              "    </tr>\n",
              "  </tbody>\n",
              "</table>\n",
              "</div>"
            ],
            "text/plain": [
              "  STATION        DATE  DAILY_ENTRIES day_of_week\n",
              "0    1 AV  08/17/2019         6208.0    Saturday\n",
              "1    1 AV  08/18/2019         4367.0      Sunday\n",
              "2    1 AV  08/19/2019        14726.0      Monday\n",
              "3    1 AV  08/20/2019        15737.0     Tuesday\n",
              "4    1 AV  08/21/2019        15953.0   Wednesday\n",
              "5    1 AV  08/22/2019        16260.0    Thursday\n",
              "6    1 AV  08/23/2019        16765.0      Friday"
            ]
          },
          "metadata": {
            "tags": []
          },
          "execution_count": 34
        }
      ]
    },
    {
      "cell_type": "code",
      "metadata": {
        "id": "-FRS2qJ47ODP",
        "outputId": "c4a61bdd-478f-44b0-cf8f-98e9c9bf6633",
        "colab": {
          "base_uri": "https://localhost:8080/",
          "height": 266
        }
      },
      "source": [
        "df_onestation_daily.iloc[:7]"
      ],
      "execution_count": null,
      "outputs": [
        {
          "output_type": "execute_result",
          "data": {
            "text/html": [
              "<div>\n",
              "<style scoped>\n",
              "    .dataframe tbody tr th:only-of-type {\n",
              "        vertical-align: middle;\n",
              "    }\n",
              "\n",
              "    .dataframe tbody tr th {\n",
              "        vertical-align: top;\n",
              "    }\n",
              "\n",
              "    .dataframe thead th {\n",
              "        text-align: right;\n",
              "    }\n",
              "</style>\n",
              "<table border=\"1\" class=\"dataframe\">\n",
              "  <thead>\n",
              "    <tr style=\"text-align: right;\">\n",
              "      <th></th>\n",
              "      <th>STATION</th>\n",
              "      <th>DATE</th>\n",
              "      <th>DAILY_ENTRIES</th>\n",
              "      <th>day_of_week</th>\n",
              "    </tr>\n",
              "  </thead>\n",
              "  <tbody>\n",
              "    <tr>\n",
              "      <th>0</th>\n",
              "      <td>1 AV</td>\n",
              "      <td>08/17/2019</td>\n",
              "      <td>6208.0</td>\n",
              "      <td>Saturday</td>\n",
              "    </tr>\n",
              "    <tr>\n",
              "      <th>1</th>\n",
              "      <td>1 AV</td>\n",
              "      <td>08/18/2019</td>\n",
              "      <td>4367.0</td>\n",
              "      <td>Sunday</td>\n",
              "    </tr>\n",
              "    <tr>\n",
              "      <th>2</th>\n",
              "      <td>1 AV</td>\n",
              "      <td>08/19/2019</td>\n",
              "      <td>14726.0</td>\n",
              "      <td>Monday</td>\n",
              "    </tr>\n",
              "    <tr>\n",
              "      <th>3</th>\n",
              "      <td>1 AV</td>\n",
              "      <td>08/20/2019</td>\n",
              "      <td>15737.0</td>\n",
              "      <td>Tuesday</td>\n",
              "    </tr>\n",
              "    <tr>\n",
              "      <th>4</th>\n",
              "      <td>1 AV</td>\n",
              "      <td>08/21/2019</td>\n",
              "      <td>15953.0</td>\n",
              "      <td>Wednesday</td>\n",
              "    </tr>\n",
              "    <tr>\n",
              "      <th>5</th>\n",
              "      <td>1 AV</td>\n",
              "      <td>08/22/2019</td>\n",
              "      <td>16260.0</td>\n",
              "      <td>Thursday</td>\n",
              "    </tr>\n",
              "    <tr>\n",
              "      <th>6</th>\n",
              "      <td>1 AV</td>\n",
              "      <td>08/23/2019</td>\n",
              "      <td>16765.0</td>\n",
              "      <td>Friday</td>\n",
              "    </tr>\n",
              "  </tbody>\n",
              "</table>\n",
              "</div>"
            ],
            "text/plain": [
              "  STATION        DATE  DAILY_ENTRIES day_of_week\n",
              "0    1 AV  08/17/2019         6208.0    Saturday\n",
              "1    1 AV  08/18/2019         4367.0      Sunday\n",
              "2    1 AV  08/19/2019        14726.0      Monday\n",
              "3    1 AV  08/20/2019        15737.0     Tuesday\n",
              "4    1 AV  08/21/2019        15953.0   Wednesday\n",
              "5    1 AV  08/22/2019        16260.0    Thursday\n",
              "6    1 AV  08/23/2019        16765.0      Friday"
            ]
          },
          "metadata": {
            "tags": []
          },
          "execution_count": 35
        }
      ]
    },
    {
      "cell_type": "code",
      "metadata": {
        "id": "gfjlJvU97juC",
        "outputId": "e8930675-9d28-47ab-ef1d-073900d56a29",
        "colab": {
          "base_uri": "https://localhost:8080/",
          "height": 1000
        }
      },
      "source": [
        "df_onestation_daily[\"day_of_week\"] = pd.to_datetime(df_onestation_daily['DATE']).dt.day_name()\n",
        "df_onestation_daily.head(28)\n",
        "\n"
      ],
      "execution_count": null,
      "outputs": [
        {
          "output_type": "stream",
          "text": [
            "/usr/local/lib/python3.6/dist-packages/ipykernel_launcher.py:1: SettingWithCopyWarning: \n",
            "A value is trying to be set on a copy of a slice from a DataFrame.\n",
            "Try using .loc[row_indexer,col_indexer] = value instead\n",
            "\n",
            "See the caveats in the documentation: https://pandas.pydata.org/pandas-docs/stable/user_guide/indexing.html#returning-a-view-versus-a-copy\n",
            "  \"\"\"Entry point for launching an IPython kernel.\n"
          ],
          "name": "stderr"
        },
        {
          "output_type": "execute_result",
          "data": {
            "text/html": [
              "<div>\n",
              "<style scoped>\n",
              "    .dataframe tbody tr th:only-of-type {\n",
              "        vertical-align: middle;\n",
              "    }\n",
              "\n",
              "    .dataframe tbody tr th {\n",
              "        vertical-align: top;\n",
              "    }\n",
              "\n",
              "    .dataframe thead th {\n",
              "        text-align: right;\n",
              "    }\n",
              "</style>\n",
              "<table border=\"1\" class=\"dataframe\">\n",
              "  <thead>\n",
              "    <tr style=\"text-align: right;\">\n",
              "      <th></th>\n",
              "      <th>STATION</th>\n",
              "      <th>DATE</th>\n",
              "      <th>DAILY_ENTRIES</th>\n",
              "      <th>day_of_week</th>\n",
              "    </tr>\n",
              "  </thead>\n",
              "  <tbody>\n",
              "    <tr>\n",
              "      <th>0</th>\n",
              "      <td>1 AV</td>\n",
              "      <td>08/17/2019</td>\n",
              "      <td>6208.0</td>\n",
              "      <td>Saturday</td>\n",
              "    </tr>\n",
              "    <tr>\n",
              "      <th>1</th>\n",
              "      <td>1 AV</td>\n",
              "      <td>08/18/2019</td>\n",
              "      <td>4367.0</td>\n",
              "      <td>Sunday</td>\n",
              "    </tr>\n",
              "    <tr>\n",
              "      <th>2</th>\n",
              "      <td>1 AV</td>\n",
              "      <td>08/19/2019</td>\n",
              "      <td>14726.0</td>\n",
              "      <td>Monday</td>\n",
              "    </tr>\n",
              "    <tr>\n",
              "      <th>3</th>\n",
              "      <td>1 AV</td>\n",
              "      <td>08/20/2019</td>\n",
              "      <td>15737.0</td>\n",
              "      <td>Tuesday</td>\n",
              "    </tr>\n",
              "    <tr>\n",
              "      <th>4</th>\n",
              "      <td>1 AV</td>\n",
              "      <td>08/21/2019</td>\n",
              "      <td>15953.0</td>\n",
              "      <td>Wednesday</td>\n",
              "    </tr>\n",
              "    <tr>\n",
              "      <th>5</th>\n",
              "      <td>1 AV</td>\n",
              "      <td>08/22/2019</td>\n",
              "      <td>16260.0</td>\n",
              "      <td>Thursday</td>\n",
              "    </tr>\n",
              "    <tr>\n",
              "      <th>6</th>\n",
              "      <td>1 AV</td>\n",
              "      <td>08/23/2019</td>\n",
              "      <td>16765.0</td>\n",
              "      <td>Friday</td>\n",
              "    </tr>\n",
              "    <tr>\n",
              "      <th>7</th>\n",
              "      <td>1 AV</td>\n",
              "      <td>08/24/2019</td>\n",
              "      <td>6260.0</td>\n",
              "      <td>Saturday</td>\n",
              "    </tr>\n",
              "    <tr>\n",
              "      <th>8</th>\n",
              "      <td>1 AV</td>\n",
              "      <td>08/25/2019</td>\n",
              "      <td>4463.0</td>\n",
              "      <td>Sunday</td>\n",
              "    </tr>\n",
              "    <tr>\n",
              "      <th>9</th>\n",
              "      <td>1 AV</td>\n",
              "      <td>08/26/2019</td>\n",
              "      <td>14736.0</td>\n",
              "      <td>Monday</td>\n",
              "    </tr>\n",
              "    <tr>\n",
              "      <th>10</th>\n",
              "      <td>1 AV</td>\n",
              "      <td>08/27/2019</td>\n",
              "      <td>15819.0</td>\n",
              "      <td>Tuesday</td>\n",
              "    </tr>\n",
              "    <tr>\n",
              "      <th>11</th>\n",
              "      <td>1 AV</td>\n",
              "      <td>08/28/2019</td>\n",
              "      <td>15969.0</td>\n",
              "      <td>Wednesday</td>\n",
              "    </tr>\n",
              "    <tr>\n",
              "      <th>12</th>\n",
              "      <td>1 AV</td>\n",
              "      <td>08/29/2019</td>\n",
              "      <td>16465.0</td>\n",
              "      <td>Thursday</td>\n",
              "    </tr>\n",
              "    <tr>\n",
              "      <th>13</th>\n",
              "      <td>1 AV</td>\n",
              "      <td>08/30/2019</td>\n",
              "      <td>13850.0</td>\n",
              "      <td>Friday</td>\n",
              "    </tr>\n",
              "    <tr>\n",
              "      <th>14</th>\n",
              "      <td>1 AV</td>\n",
              "      <td>08/31/2019</td>\n",
              "      <td>4995.0</td>\n",
              "      <td>Saturday</td>\n",
              "    </tr>\n",
              "    <tr>\n",
              "      <th>15</th>\n",
              "      <td>1 AV</td>\n",
              "      <td>09/01/2019</td>\n",
              "      <td>4169.0</td>\n",
              "      <td>Sunday</td>\n",
              "    </tr>\n",
              "    <tr>\n",
              "      <th>16</th>\n",
              "      <td>1 AV</td>\n",
              "      <td>09/02/2019</td>\n",
              "      <td>3657.0</td>\n",
              "      <td>Monday</td>\n",
              "    </tr>\n",
              "    <tr>\n",
              "      <th>17</th>\n",
              "      <td>1 AV</td>\n",
              "      <td>09/03/2019</td>\n",
              "      <td>15620.0</td>\n",
              "      <td>Tuesday</td>\n",
              "    </tr>\n",
              "    <tr>\n",
              "      <th>18</th>\n",
              "      <td>1 AV</td>\n",
              "      <td>09/04/2019</td>\n",
              "      <td>16739.0</td>\n",
              "      <td>Wednesday</td>\n",
              "    </tr>\n",
              "    <tr>\n",
              "      <th>19</th>\n",
              "      <td>1 AV</td>\n",
              "      <td>09/05/2019</td>\n",
              "      <td>18923.0</td>\n",
              "      <td>Thursday</td>\n",
              "    </tr>\n",
              "    <tr>\n",
              "      <th>20</th>\n",
              "      <td>1 AV</td>\n",
              "      <td>09/06/2019</td>\n",
              "      <td>19652.0</td>\n",
              "      <td>Friday</td>\n",
              "    </tr>\n",
              "    <tr>\n",
              "      <th>21</th>\n",
              "      <td>1 AV</td>\n",
              "      <td>09/07/2019</td>\n",
              "      <td>6833.0</td>\n",
              "      <td>Saturday</td>\n",
              "    </tr>\n",
              "    <tr>\n",
              "      <th>22</th>\n",
              "      <td>1 AV</td>\n",
              "      <td>09/08/2019</td>\n",
              "      <td>5195.0</td>\n",
              "      <td>Sunday</td>\n",
              "    </tr>\n",
              "    <tr>\n",
              "      <th>23</th>\n",
              "      <td>1 AV</td>\n",
              "      <td>09/09/2019</td>\n",
              "      <td>17826.0</td>\n",
              "      <td>Monday</td>\n",
              "    </tr>\n",
              "    <tr>\n",
              "      <th>24</th>\n",
              "      <td>1 AV</td>\n",
              "      <td>09/10/2019</td>\n",
              "      <td>18577.0</td>\n",
              "      <td>Tuesday</td>\n",
              "    </tr>\n",
              "    <tr>\n",
              "      <th>25</th>\n",
              "      <td>1 AV</td>\n",
              "      <td>09/11/2019</td>\n",
              "      <td>18863.0</td>\n",
              "      <td>Wednesday</td>\n",
              "    </tr>\n",
              "    <tr>\n",
              "      <th>26</th>\n",
              "      <td>1 AV</td>\n",
              "      <td>09/12/2019</td>\n",
              "      <td>19204.0</td>\n",
              "      <td>Thursday</td>\n",
              "    </tr>\n",
              "    <tr>\n",
              "      <th>27</th>\n",
              "      <td>1 AV</td>\n",
              "      <td>09/13/2019</td>\n",
              "      <td>19929.0</td>\n",
              "      <td>Friday</td>\n",
              "    </tr>\n",
              "  </tbody>\n",
              "</table>\n",
              "</div>"
            ],
            "text/plain": [
              "   STATION        DATE  DAILY_ENTRIES day_of_week\n",
              "0     1 AV  08/17/2019         6208.0    Saturday\n",
              "1     1 AV  08/18/2019         4367.0      Sunday\n",
              "2     1 AV  08/19/2019        14726.0      Monday\n",
              "3     1 AV  08/20/2019        15737.0     Tuesday\n",
              "4     1 AV  08/21/2019        15953.0   Wednesday\n",
              "5     1 AV  08/22/2019        16260.0    Thursday\n",
              "6     1 AV  08/23/2019        16765.0      Friday\n",
              "7     1 AV  08/24/2019         6260.0    Saturday\n",
              "8     1 AV  08/25/2019         4463.0      Sunday\n",
              "9     1 AV  08/26/2019        14736.0      Monday\n",
              "10    1 AV  08/27/2019        15819.0     Tuesday\n",
              "11    1 AV  08/28/2019        15969.0   Wednesday\n",
              "12    1 AV  08/29/2019        16465.0    Thursday\n",
              "13    1 AV  08/30/2019        13850.0      Friday\n",
              "14    1 AV  08/31/2019         4995.0    Saturday\n",
              "15    1 AV  09/01/2019         4169.0      Sunday\n",
              "16    1 AV  09/02/2019         3657.0      Monday\n",
              "17    1 AV  09/03/2019        15620.0     Tuesday\n",
              "18    1 AV  09/04/2019        16739.0   Wednesday\n",
              "19    1 AV  09/05/2019        18923.0    Thursday\n",
              "20    1 AV  09/06/2019        19652.0      Friday\n",
              "21    1 AV  09/07/2019         6833.0    Saturday\n",
              "22    1 AV  09/08/2019         5195.0      Sunday\n",
              "23    1 AV  09/09/2019        17826.0      Monday\n",
              "24    1 AV  09/10/2019        18577.0     Tuesday\n",
              "25    1 AV  09/11/2019        18863.0   Wednesday\n",
              "26    1 AV  09/12/2019        19204.0    Thursday\n",
              "27    1 AV  09/13/2019        19929.0      Friday"
            ]
          },
          "metadata": {
            "tags": []
          },
          "execution_count": 36
        }
      ]
    },
    {
      "cell_type": "code",
      "metadata": {
        "id": "igI6G8mC8uBA",
        "outputId": "ac2f3a94-f7b8-42d6-e031-37e009c4347c",
        "colab": {
          "base_uri": "https://localhost:8080/",
          "height": 34
        }
      },
      "source": [
        "df_onestation_daily.iloc[:7]\n",
        "print(\"len is {}\".format(len(df_onestation_daily)))\n",
        "\n",
        "list_of_dailyentries_for_a_week = []\n",
        "\n",
        "for i in range( len(df_onestation_daily)//7 ):\n",
        "  list_of_dailyentries_for_a_week.append( df_onestation_daily.iloc[ 7*i : 7*i+7 ] )\n"
      ],
      "execution_count": null,
      "outputs": [
        {
          "output_type": "stream",
          "text": [
            "len is 34\n"
          ],
          "name": "stdout"
        }
      ]
    },
    {
      "cell_type": "code",
      "metadata": {
        "id": "ZWFClfcK78wt",
        "outputId": "ec636147-3933-42fe-ea77-563b3f292e58",
        "colab": {
          "base_uri": "https://localhost:8080/",
          "height": 561
        }
      },
      "source": [
        "list_of_dailyentries_for_a_week"
      ],
      "execution_count": null,
      "outputs": [
        {
          "output_type": "execute_result",
          "data": {
            "text/plain": [
              "[  STATION        DATE  DAILY_ENTRIES day_of_week\n",
              " 0    1 AV  08/17/2019         6208.0    Saturday\n",
              " 1    1 AV  08/18/2019         4367.0      Sunday\n",
              " 2    1 AV  08/19/2019        14726.0      Monday\n",
              " 3    1 AV  08/20/2019        15737.0     Tuesday\n",
              " 4    1 AV  08/21/2019        15953.0   Wednesday\n",
              " 5    1 AV  08/22/2019        16260.0    Thursday\n",
              " 6    1 AV  08/23/2019        16765.0      Friday,\n",
              "    STATION        DATE  DAILY_ENTRIES day_of_week\n",
              " 7     1 AV  08/24/2019         6260.0    Saturday\n",
              " 8     1 AV  08/25/2019         4463.0      Sunday\n",
              " 9     1 AV  08/26/2019        14736.0      Monday\n",
              " 10    1 AV  08/27/2019        15819.0     Tuesday\n",
              " 11    1 AV  08/28/2019        15969.0   Wednesday\n",
              " 12    1 AV  08/29/2019        16465.0    Thursday\n",
              " 13    1 AV  08/30/2019        13850.0      Friday,\n",
              "    STATION        DATE  DAILY_ENTRIES day_of_week\n",
              " 14    1 AV  08/31/2019         4995.0    Saturday\n",
              " 15    1 AV  09/01/2019         4169.0      Sunday\n",
              " 16    1 AV  09/02/2019         3657.0      Monday\n",
              " 17    1 AV  09/03/2019        15620.0     Tuesday\n",
              " 18    1 AV  09/04/2019        16739.0   Wednesday\n",
              " 19    1 AV  09/05/2019        18923.0    Thursday\n",
              " 20    1 AV  09/06/2019        19652.0      Friday,\n",
              "    STATION        DATE  DAILY_ENTRIES day_of_week\n",
              " 21    1 AV  09/07/2019         6833.0    Saturday\n",
              " 22    1 AV  09/08/2019         5195.0      Sunday\n",
              " 23    1 AV  09/09/2019        17826.0      Monday\n",
              " 24    1 AV  09/10/2019        18577.0     Tuesday\n",
              " 25    1 AV  09/11/2019        18863.0   Wednesday\n",
              " 26    1 AV  09/12/2019        19204.0    Thursday\n",
              " 27    1 AV  09/13/2019        19929.0      Friday]"
            ]
          },
          "metadata": {
            "tags": []
          },
          "execution_count": 38
        }
      ]
    },
    {
      "cell_type": "markdown",
      "metadata": {
        "id": "iMniD5fi9u1y"
      },
      "source": [
        ""
      ]
    },
    {
      "cell_type": "code",
      "metadata": {
        "id": "OwwfamVV-vPj",
        "outputId": "97ec95aa-69bd-4836-f66e-e512df27361c",
        "colab": {
          "base_uri": "https://localhost:8080/",
          "height": 266
        }
      },
      "source": [
        "list_of_dailyentries_for_a_week[0]"
      ],
      "execution_count": null,
      "outputs": [
        {
          "output_type": "execute_result",
          "data": {
            "text/html": [
              "<div>\n",
              "<style scoped>\n",
              "    .dataframe tbody tr th:only-of-type {\n",
              "        vertical-align: middle;\n",
              "    }\n",
              "\n",
              "    .dataframe tbody tr th {\n",
              "        vertical-align: top;\n",
              "    }\n",
              "\n",
              "    .dataframe thead th {\n",
              "        text-align: right;\n",
              "    }\n",
              "</style>\n",
              "<table border=\"1\" class=\"dataframe\">\n",
              "  <thead>\n",
              "    <tr style=\"text-align: right;\">\n",
              "      <th></th>\n",
              "      <th>STATION</th>\n",
              "      <th>DATE</th>\n",
              "      <th>DAILY_ENTRIES</th>\n",
              "      <th>day_of_week</th>\n",
              "    </tr>\n",
              "  </thead>\n",
              "  <tbody>\n",
              "    <tr>\n",
              "      <th>0</th>\n",
              "      <td>1 AV</td>\n",
              "      <td>08/17/2019</td>\n",
              "      <td>6208.0</td>\n",
              "      <td>Saturday</td>\n",
              "    </tr>\n",
              "    <tr>\n",
              "      <th>1</th>\n",
              "      <td>1 AV</td>\n",
              "      <td>08/18/2019</td>\n",
              "      <td>4367.0</td>\n",
              "      <td>Sunday</td>\n",
              "    </tr>\n",
              "    <tr>\n",
              "      <th>2</th>\n",
              "      <td>1 AV</td>\n",
              "      <td>08/19/2019</td>\n",
              "      <td>14726.0</td>\n",
              "      <td>Monday</td>\n",
              "    </tr>\n",
              "    <tr>\n",
              "      <th>3</th>\n",
              "      <td>1 AV</td>\n",
              "      <td>08/20/2019</td>\n",
              "      <td>15737.0</td>\n",
              "      <td>Tuesday</td>\n",
              "    </tr>\n",
              "    <tr>\n",
              "      <th>4</th>\n",
              "      <td>1 AV</td>\n",
              "      <td>08/21/2019</td>\n",
              "      <td>15953.0</td>\n",
              "      <td>Wednesday</td>\n",
              "    </tr>\n",
              "    <tr>\n",
              "      <th>5</th>\n",
              "      <td>1 AV</td>\n",
              "      <td>08/22/2019</td>\n",
              "      <td>16260.0</td>\n",
              "      <td>Thursday</td>\n",
              "    </tr>\n",
              "    <tr>\n",
              "      <th>6</th>\n",
              "      <td>1 AV</td>\n",
              "      <td>08/23/2019</td>\n",
              "      <td>16765.0</td>\n",
              "      <td>Friday</td>\n",
              "    </tr>\n",
              "  </tbody>\n",
              "</table>\n",
              "</div>"
            ],
            "text/plain": [
              "  STATION        DATE  DAILY_ENTRIES day_of_week\n",
              "0    1 AV  08/17/2019         6208.0    Saturday\n",
              "1    1 AV  08/18/2019         4367.0      Sunday\n",
              "2    1 AV  08/19/2019        14726.0      Monday\n",
              "3    1 AV  08/20/2019        15737.0     Tuesday\n",
              "4    1 AV  08/21/2019        15953.0   Wednesday\n",
              "5    1 AV  08/22/2019        16260.0    Thursday\n",
              "6    1 AV  08/23/2019        16765.0      Friday"
            ]
          },
          "metadata": {
            "tags": []
          },
          "execution_count": 39
        }
      ]
    },
    {
      "cell_type": "code",
      "metadata": {
        "id": "HysR3Iwv-wGw",
        "outputId": "5f5a8f64-d7a6-431e-eda0-f23000334f10",
        "colab": {
          "base_uri": "https://localhost:8080/",
          "height": 242
        }
      },
      "source": [
        "plt.figure(figsize=(10,3))\n",
        "plt.xlabel(\"Day of Week\")\n",
        "plt.ylabel(\"Numb of Entries\")\n",
        "\n",
        "for l in list_of_dailyentries_for_a_week:\n",
        "  plt.plot(l[\"day_of_week\"],l[\"DAILY_ENTRIES\"])\n",
        "\n",
        "plt.legend()\n",
        "plt.show()"
      ],
      "execution_count": null,
      "outputs": [
        {
          "output_type": "stream",
          "text": [
            "No handles with labels found to put in legend.\n"
          ],
          "name": "stderr"
        },
        {
          "output_type": "display_data",
          "data": {
            "image/png": "[encoded data removed]",
            "text/plain": [
              "<Figure size 720x216 with 1 Axes>"
            ]
          },
          "metadata": {
            "tags": [],
            "needs_background": "light"
          }
        }
      ]
    },
    {
      "cell_type": "code",
      "metadata": {
        "id": "c1rqVZBr_QPy"
      },
      "source": [
        ""
      ],
      "execution_count": null,
      "outputs": []
    },
    {
      "cell_type": "markdown",
      "metadata": {
        "id": "bNVPJ_rp_jOF"
      },
      "source": [
        "# Challenge 9\n",
        ">Over multiple weeks, sum total ridership for each station and sort them, so you can find out the stations with the highest traffic during the time you investigate"
      ]
    },
    {
      "cell_type": "code",
      "metadata": {
        "id": "KTzi3XfB_loy",
        "outputId": "475ab1ab-344f-4109-861e-fc58c46f19db",
        "colab": {
          "base_uri": "https://localhost:8080/",
          "height": 419
        }
      },
      "source": [
        "df_daily_station.groupby([\"STATION\"])[\"DAILY_ENTRIES\"].sum().reset_index().sort_values([\"DAILY_ENTRIES\"], ascending=False)\n",
        "\n",
        "#for challenge 10\n",
        "#reset index\n",
        "#plot historgram\n"
      ],
      "execution_count": null,
      "outputs": [
        {
          "output_type": "execute_result",
          "data": {
            "text/html": [
              "<div>\n",
              "<style scoped>\n",
              "    .dataframe tbody tr th:only-of-type {\n",
              "        vertical-align: middle;\n",
              "    }\n",
              "\n",
              "    .dataframe tbody tr th {\n",
              "        vertical-align: top;\n",
              "    }\n",
              "\n",
              "    .dataframe thead th {\n",
              "        text-align: right;\n",
              "    }\n",
              "</style>\n",
              "<table border=\"1\" class=\"dataframe\">\n",
              "  <thead>\n",
              "    <tr style=\"text-align: right;\">\n",
              "      <th></th>\n",
              "      <th>STATION</th>\n",
              "      <th>DAILY_ENTRIES</th>\n",
              "    </tr>\n",
              "  </thead>\n",
              "  <tbody>\n",
              "    <tr>\n",
              "      <th>61</th>\n",
              "      <td>34 ST-PENN STA</td>\n",
              "      <td>4609118.0</td>\n",
              "    </tr>\n",
              "    <tr>\n",
              "      <th>232</th>\n",
              "      <td>GRD CNTRL-42 ST</td>\n",
              "      <td>3997497.0</td>\n",
              "    </tr>\n",
              "    <tr>\n",
              "      <th>59</th>\n",
              "      <td>34 ST-HERALD SQ</td>\n",
              "      <td>3597977.0</td>\n",
              "    </tr>\n",
              "    <tr>\n",
              "      <th>46</th>\n",
              "      <td>23 ST</td>\n",
              "      <td>3274683.0</td>\n",
              "    </tr>\n",
              "    <tr>\n",
              "      <th>68</th>\n",
              "      <td>42 ST-PORT AUTH</td>\n",
              "      <td>3055070.0</td>\n",
              "    </tr>\n",
              "    <tr>\n",
              "      <th>...</th>\n",
              "      <td>...</td>\n",
              "      <td>...</td>\n",
              "    </tr>\n",
              "    <tr>\n",
              "      <th>147</th>\n",
              "      <td>BEACH 98 ST</td>\n",
              "      <td>18748.0</td>\n",
              "    </tr>\n",
              "    <tr>\n",
              "      <th>140</th>\n",
              "      <td>BEACH 105 ST</td>\n",
              "      <td>10509.0</td>\n",
              "    </tr>\n",
              "    <tr>\n",
              "      <th>161</th>\n",
              "      <td>BROAD CHANNEL</td>\n",
              "      <td>9422.0</td>\n",
              "    </tr>\n",
              "    <tr>\n",
              "      <th>299</th>\n",
              "      <td>NEWARK HM HE</td>\n",
              "      <td>4183.0</td>\n",
              "    </tr>\n",
              "    <tr>\n",
              "      <th>308</th>\n",
              "      <td>ORCHARD BEACH</td>\n",
              "      <td>626.0</td>\n",
              "    </tr>\n",
              "  </tbody>\n",
              "</table>\n",
              "<p>378 rows × 2 columns</p>\n",
              "</div>"
            ],
            "text/plain": [
              "             STATION  DAILY_ENTRIES\n",
              "61    34 ST-PENN STA      4609118.0\n",
              "232  GRD CNTRL-42 ST      3997497.0\n",
              "59   34 ST-HERALD SQ      3597977.0\n",
              "46             23 ST      3274683.0\n",
              "68   42 ST-PORT AUTH      3055070.0\n",
              "..               ...            ...\n",
              "147      BEACH 98 ST        18748.0\n",
              "140     BEACH 105 ST        10509.0\n",
              "161    BROAD CHANNEL         9422.0\n",
              "299     NEWARK HM HE         4183.0\n",
              "308    ORCHARD BEACH          626.0\n",
              "\n",
              "[378 rows x 2 columns]"
            ]
          },
          "metadata": {
            "tags": []
          },
          "execution_count": 41
        }
      ]
    },
    {
      "cell_type": "markdown",
      "metadata": {
        "id": "dWvBaK_bBvy0"
      },
      "source": [
        "# Challenge Part 10\n"
      ]
    },
    {
      "cell_type": "markdown",
      "metadata": {
        "id": "9BVx_Q_ghpFw"
      },
      "source": [
        "Histogram of total ridership."
      ]
    },
    {
      "cell_type": "code",
      "metadata": {
        "id": "RlskynHB_8qb",
        "outputId": "7440a588-7edd-47b3-ff98-365575b1d157",
        "colab": {
          "base_uri": "https://localhost:8080/",
          "height": 296
        }
      },
      "source": [
        "plt.hist(df_daily_station.groupby([\"STATION\"])[\"DAILY_ENTRIES\"].sum(), 75)\n",
        "plt.xlabel(xlabel=\"Number of entries to that station\")"
      ],
      "execution_count": null,
      "outputs": [
        {
          "output_type": "execute_result",
          "data": {
            "text/plain": [
              "Text(0.5, 0, 'Number of entries to that station')"
            ]
          },
          "metadata": {
            "tags": []
          },
          "execution_count": 92
        },
        {
          "output_type": "display_data",
          "data": {
            "image/png": "[encoded data removed]",
            "text/plain": [
              "<Figure size 432x288 with 1 Axes>"
            ]
          },
          "metadata": {
            "tags": [],
            "needs_background": "light"
          }
        }
      ]
    },
    {
      "cell_type": "code",
      "metadata": {
        "id": "TCdn0mj5BqhU"
      },
      "source": [
        ""
      ],
      "execution_count": null,
      "outputs": []
    }
  ]
}